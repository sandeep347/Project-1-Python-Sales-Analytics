{
 "cells": [
  {
   "cell_type": "markdown",
   "id": "14219c08",
   "metadata": {},
   "source": [
    "Project 1:-\n",
    "Sales Data Analysis"
   ]
  },
  {
   "cell_type": "markdown",
   "id": "692db25b",
   "metadata": {},
   "source": [
    "The data contains hundreds of thousands of electronics store purchases broken down by month, product type, cost, purchase address, etc of 12 months.\n",
    "We are going to analyse this data using pandas and matplotlib"
   ]
  },
  {
   "cell_type": "code",
   "execution_count": 211,
   "id": "bd5f31c7",
   "metadata": {},
   "outputs": [],
   "source": [
    "import pandas as pd\n",
    "import matplotlib.pyplot as plt"
   ]
  },
  {
   "cell_type": "markdown",
   "id": "a4baa131",
   "metadata": {},
   "source": [
    "Read the data or import the data"
   ]
  },
  {
   "cell_type": "code",
   "execution_count": 212,
   "id": "a2cf690a",
   "metadata": {},
   "outputs": [],
   "source": [
    "data=pd.read_csv('Sales_data.csv')"
   ]
  },
  {
   "cell_type": "markdown",
   "id": "1c36f227",
   "metadata": {},
   "source": [
    "view our data"
   ]
  },
  {
   "cell_type": "code",
   "execution_count": 213,
   "id": "689a8987",
   "metadata": {},
   "outputs": [
    {
     "data": {
      "text/html": [
       "<div>\n",
       "<style scoped>\n",
       "    .dataframe tbody tr th:only-of-type {\n",
       "        vertical-align: middle;\n",
       "    }\n",
       "\n",
       "    .dataframe tbody tr th {\n",
       "        vertical-align: top;\n",
       "    }\n",
       "\n",
       "    .dataframe thead th {\n",
       "        text-align: right;\n",
       "    }\n",
       "</style>\n",
       "<table border=\"1\" class=\"dataframe\">\n",
       "  <thead>\n",
       "    <tr style=\"text-align: right;\">\n",
       "      <th></th>\n",
       "      <th>Order ID</th>\n",
       "      <th>Product</th>\n",
       "      <th>Quantity Ordered</th>\n",
       "      <th>Price Each</th>\n",
       "      <th>Order Date</th>\n",
       "      <th>Purchase Address</th>\n",
       "    </tr>\n",
       "  </thead>\n",
       "  <tbody>\n",
       "    <tr>\n",
       "      <th>0</th>\n",
       "      <td>176558</td>\n",
       "      <td>USB-C Charging Cable</td>\n",
       "      <td>2</td>\n",
       "      <td>11.95</td>\n",
       "      <td>04/19/19 08:46</td>\n",
       "      <td>917 1st St, Dallas, TX 75001</td>\n",
       "    </tr>\n",
       "    <tr>\n",
       "      <th>1</th>\n",
       "      <td>NaN</td>\n",
       "      <td>NaN</td>\n",
       "      <td>NaN</td>\n",
       "      <td>NaN</td>\n",
       "      <td>NaN</td>\n",
       "      <td>NaN</td>\n",
       "    </tr>\n",
       "    <tr>\n",
       "      <th>2</th>\n",
       "      <td>176559</td>\n",
       "      <td>Bose SoundSport Headphones</td>\n",
       "      <td>1</td>\n",
       "      <td>99.99</td>\n",
       "      <td>04-07-2019 22:30</td>\n",
       "      <td>682 Chestnut St, Boston, MA 02215</td>\n",
       "    </tr>\n",
       "    <tr>\n",
       "      <th>3</th>\n",
       "      <td>176560</td>\n",
       "      <td>Google Phone</td>\n",
       "      <td>1</td>\n",
       "      <td>600</td>\n",
       "      <td>04-12-2019 14:38</td>\n",
       "      <td>669 Spruce St, Los Angeles, CA 90001</td>\n",
       "    </tr>\n",
       "    <tr>\n",
       "      <th>4</th>\n",
       "      <td>176560</td>\n",
       "      <td>Wired Headphones</td>\n",
       "      <td>1</td>\n",
       "      <td>11.99</td>\n",
       "      <td>04-12-2019 14:38</td>\n",
       "      <td>669 Spruce St, Los Angeles, CA 90001</td>\n",
       "    </tr>\n",
       "    <tr>\n",
       "      <th>...</th>\n",
       "      <td>...</td>\n",
       "      <td>...</td>\n",
       "      <td>...</td>\n",
       "      <td>...</td>\n",
       "      <td>...</td>\n",
       "      <td>...</td>\n",
       "    </tr>\n",
       "    <tr>\n",
       "      <th>186845</th>\n",
       "      <td>259353</td>\n",
       "      <td>AAA Batteries (4-pack)</td>\n",
       "      <td>3</td>\n",
       "      <td>2.99</td>\n",
       "      <td>09/17/19 20:56</td>\n",
       "      <td>840 Highland St, Los Angeles, CA 90001</td>\n",
       "    </tr>\n",
       "    <tr>\n",
       "      <th>186846</th>\n",
       "      <td>259354</td>\n",
       "      <td>iPhone</td>\n",
       "      <td>1</td>\n",
       "      <td>700</td>\n",
       "      <td>09-01-2019 16:00</td>\n",
       "      <td>216 Dogwood St, San Francisco, CA 94016</td>\n",
       "    </tr>\n",
       "    <tr>\n",
       "      <th>186847</th>\n",
       "      <td>259355</td>\n",
       "      <td>iPhone</td>\n",
       "      <td>1</td>\n",
       "      <td>700</td>\n",
       "      <td>09/23/19 07:39</td>\n",
       "      <td>220 12th St, San Francisco, CA 94016</td>\n",
       "    </tr>\n",
       "    <tr>\n",
       "      <th>186848</th>\n",
       "      <td>259356</td>\n",
       "      <td>34in Ultrawide Monitor</td>\n",
       "      <td>1</td>\n",
       "      <td>379.99</td>\n",
       "      <td>09/19/19 17:30</td>\n",
       "      <td>511 Forest St, San Francisco, CA 94016</td>\n",
       "    </tr>\n",
       "    <tr>\n",
       "      <th>186849</th>\n",
       "      <td>259357</td>\n",
       "      <td>USB-C Charging Cable</td>\n",
       "      <td>1</td>\n",
       "      <td>11.95</td>\n",
       "      <td>09/30/19 00:18</td>\n",
       "      <td>250 Meadow St, San Francisco, CA 94016</td>\n",
       "    </tr>\n",
       "  </tbody>\n",
       "</table>\n",
       "<p>186850 rows × 6 columns</p>\n",
       "</div>"
      ],
      "text/plain": [
       "       Order ID                     Product Quantity Ordered Price Each  \\\n",
       "0        176558        USB-C Charging Cable                2      11.95   \n",
       "1           NaN                         NaN              NaN        NaN   \n",
       "2        176559  Bose SoundSport Headphones                1      99.99   \n",
       "3        176560                Google Phone                1        600   \n",
       "4        176560            Wired Headphones                1      11.99   \n",
       "...         ...                         ...              ...        ...   \n",
       "186845   259353      AAA Batteries (4-pack)                3       2.99   \n",
       "186846   259354                      iPhone                1        700   \n",
       "186847   259355                      iPhone                1        700   \n",
       "186848   259356      34in Ultrawide Monitor                1     379.99   \n",
       "186849   259357        USB-C Charging Cable                1      11.95   \n",
       "\n",
       "              Order Date                         Purchase Address  \n",
       "0         04/19/19 08:46             917 1st St, Dallas, TX 75001  \n",
       "1                    NaN                                      NaN  \n",
       "2       04-07-2019 22:30        682 Chestnut St, Boston, MA 02215  \n",
       "3       04-12-2019 14:38     669 Spruce St, Los Angeles, CA 90001  \n",
       "4       04-12-2019 14:38     669 Spruce St, Los Angeles, CA 90001  \n",
       "...                  ...                                      ...  \n",
       "186845    09/17/19 20:56   840 Highland St, Los Angeles, CA 90001  \n",
       "186846  09-01-2019 16:00  216 Dogwood St, San Francisco, CA 94016  \n",
       "186847    09/23/19 07:39     220 12th St, San Francisco, CA 94016  \n",
       "186848    09/19/19 17:30   511 Forest St, San Francisco, CA 94016  \n",
       "186849    09/30/19 00:18   250 Meadow St, San Francisco, CA 94016  \n",
       "\n",
       "[186850 rows x 6 columns]"
      ]
     },
     "execution_count": 213,
     "metadata": {},
     "output_type": "execute_result"
    }
   ],
   "source": [
    "data"
   ]
  },
  {
   "cell_type": "code",
   "execution_count": 217,
   "id": "03d6421f",
   "metadata": {},
   "outputs": [
    {
     "data": {
      "text/html": [
       "<div>\n",
       "<style scoped>\n",
       "    .dataframe tbody tr th:only-of-type {\n",
       "        vertical-align: middle;\n",
       "    }\n",
       "\n",
       "    .dataframe tbody tr th {\n",
       "        vertical-align: top;\n",
       "    }\n",
       "\n",
       "    .dataframe thead th {\n",
       "        text-align: right;\n",
       "    }\n",
       "</style>\n",
       "<table border=\"1\" class=\"dataframe\">\n",
       "  <thead>\n",
       "    <tr style=\"text-align: right;\">\n",
       "      <th></th>\n",
       "      <th>Order ID</th>\n",
       "      <th>Product</th>\n",
       "      <th>Quantity Ordered</th>\n",
       "      <th>Price Each</th>\n",
       "      <th>Order Date</th>\n",
       "      <th>Purchase Address</th>\n",
       "    </tr>\n",
       "  </thead>\n",
       "  <tbody>\n",
       "    <tr>\n",
       "      <th>0</th>\n",
       "      <td>176558</td>\n",
       "      <td>USB-C Charging Cable</td>\n",
       "      <td>2</td>\n",
       "      <td>11.95</td>\n",
       "      <td>04/19/19 08:46</td>\n",
       "      <td>917 1st St, Dallas, TX 75001</td>\n",
       "    </tr>\n",
       "    <tr>\n",
       "      <th>1</th>\n",
       "      <td>NaN</td>\n",
       "      <td>NaN</td>\n",
       "      <td>NaN</td>\n",
       "      <td>NaN</td>\n",
       "      <td>NaN</td>\n",
       "      <td>NaN</td>\n",
       "    </tr>\n",
       "    <tr>\n",
       "      <th>2</th>\n",
       "      <td>176559</td>\n",
       "      <td>Bose SoundSport Headphones</td>\n",
       "      <td>1</td>\n",
       "      <td>99.99</td>\n",
       "      <td>04-07-2019 22:30</td>\n",
       "      <td>682 Chestnut St, Boston, MA 02215</td>\n",
       "    </tr>\n",
       "    <tr>\n",
       "      <th>3</th>\n",
       "      <td>176560</td>\n",
       "      <td>Google Phone</td>\n",
       "      <td>1</td>\n",
       "      <td>600</td>\n",
       "      <td>04-12-2019 14:38</td>\n",
       "      <td>669 Spruce St, Los Angeles, CA 90001</td>\n",
       "    </tr>\n",
       "    <tr>\n",
       "      <th>4</th>\n",
       "      <td>176560</td>\n",
       "      <td>Wired Headphones</td>\n",
       "      <td>1</td>\n",
       "      <td>11.99</td>\n",
       "      <td>04-12-2019 14:38</td>\n",
       "      <td>669 Spruce St, Los Angeles, CA 90001</td>\n",
       "    </tr>\n",
       "    <tr>\n",
       "      <th>5</th>\n",
       "      <td>176561</td>\n",
       "      <td>Wired Headphones</td>\n",
       "      <td>1</td>\n",
       "      <td>11.99</td>\n",
       "      <td>04/30/19 09:27</td>\n",
       "      <td>333 8th St, Los Angeles, CA 90001</td>\n",
       "    </tr>\n",
       "    <tr>\n",
       "      <th>6</th>\n",
       "      <td>176562</td>\n",
       "      <td>USB-C Charging Cable</td>\n",
       "      <td>1</td>\n",
       "      <td>11.95</td>\n",
       "      <td>04/29/19 13:03</td>\n",
       "      <td>381 Wilson St, San Francisco, CA 94016</td>\n",
       "    </tr>\n",
       "    <tr>\n",
       "      <th>7</th>\n",
       "      <td>176563</td>\n",
       "      <td>Bose SoundSport Headphones</td>\n",
       "      <td>1</td>\n",
       "      <td>99.99</td>\n",
       "      <td>04-02-2019 07:46</td>\n",
       "      <td>668 Center St, Seattle, WA 98101</td>\n",
       "    </tr>\n",
       "    <tr>\n",
       "      <th>8</th>\n",
       "      <td>176564</td>\n",
       "      <td>USB-C Charging Cable</td>\n",
       "      <td>1</td>\n",
       "      <td>11.95</td>\n",
       "      <td>04-12-2019 10:58</td>\n",
       "      <td>790 Ridge St, Atlanta, GA 30301</td>\n",
       "    </tr>\n",
       "    <tr>\n",
       "      <th>9</th>\n",
       "      <td>176565</td>\n",
       "      <td>Macbook Pro Laptop</td>\n",
       "      <td>1</td>\n",
       "      <td>1700</td>\n",
       "      <td>04/24/19 10:38</td>\n",
       "      <td>915 Willow St, San Francisco, CA 94016</td>\n",
       "    </tr>\n",
       "  </tbody>\n",
       "</table>\n",
       "</div>"
      ],
      "text/plain": [
       "  Order ID                     Product Quantity Ordered Price Each  \\\n",
       "0   176558        USB-C Charging Cable                2      11.95   \n",
       "1      NaN                         NaN              NaN        NaN   \n",
       "2   176559  Bose SoundSport Headphones                1      99.99   \n",
       "3   176560                Google Phone                1        600   \n",
       "4   176560            Wired Headphones                1      11.99   \n",
       "5   176561            Wired Headphones                1      11.99   \n",
       "6   176562        USB-C Charging Cable                1      11.95   \n",
       "7   176563  Bose SoundSport Headphones                1      99.99   \n",
       "8   176564        USB-C Charging Cable                1      11.95   \n",
       "9   176565          Macbook Pro Laptop                1       1700   \n",
       "\n",
       "         Order Date                        Purchase Address  \n",
       "0    04/19/19 08:46            917 1st St, Dallas, TX 75001  \n",
       "1               NaN                                     NaN  \n",
       "2  04-07-2019 22:30       682 Chestnut St, Boston, MA 02215  \n",
       "3  04-12-2019 14:38    669 Spruce St, Los Angeles, CA 90001  \n",
       "4  04-12-2019 14:38    669 Spruce St, Los Angeles, CA 90001  \n",
       "5    04/30/19 09:27       333 8th St, Los Angeles, CA 90001  \n",
       "6    04/29/19 13:03  381 Wilson St, San Francisco, CA 94016  \n",
       "7  04-02-2019 07:46        668 Center St, Seattle, WA 98101  \n",
       "8  04-12-2019 10:58         790 Ridge St, Atlanta, GA 30301  \n",
       "9    04/24/19 10:38  915 Willow St, San Francisco, CA 94016  "
      ]
     },
     "execution_count": 217,
     "metadata": {},
     "output_type": "execute_result"
    }
   ],
   "source": [
    "data.head(10)"
   ]
  },
  {
   "cell_type": "markdown",
   "id": "ba0671a0",
   "metadata": {},
   "source": [
    "Check the size of our data using .shape"
   ]
  },
  {
   "cell_type": "code",
   "execution_count": 218,
   "id": "2bc21cd3",
   "metadata": {},
   "outputs": [
    {
     "data": {
      "text/plain": [
       "(186850, 6)"
      ]
     },
     "execution_count": 218,
     "metadata": {},
     "output_type": "execute_result"
    }
   ],
   "source": [
    "data.shape #It shows the total number of records/rows and columns in our dataset\n",
    "data.shape"
   ]
  },
  {
   "cell_type": "code",
   "execution_count": 219,
   "id": "f87708a0",
   "metadata": {},
   "outputs": [
    {
     "data": {
      "text/plain": [
       "Index(['Order ID', 'Product', 'Quantity Ordered', 'Price Each', 'Order Date',\n",
       "       'Purchase Address'],\n",
       "      dtype='object')"
      ]
     },
     "execution_count": 219,
     "metadata": {},
     "output_type": "execute_result"
    }
   ],
   "source": [
    "# It shows the name of the columns\n",
    "data.columns"
   ]
  },
  {
   "cell_type": "markdown",
   "id": "f4c2492e",
   "metadata": {},
   "source": [
    ".index to check the indexing of our dataset"
   ]
  },
  {
   "cell_type": "code",
   "execution_count": 220,
   "id": "ed4ce384",
   "metadata": {},
   "outputs": [
    {
     "data": {
      "text/plain": [
       "RangeIndex(start=0, stop=186850, step=1)"
      ]
     },
     "execution_count": 220,
     "metadata": {},
     "output_type": "execute_result"
    }
   ],
   "source": [
    "data.index"
   ]
  },
  {
   "cell_type": "markdown",
   "id": "43c42996",
   "metadata": {},
   "source": [
    ".nunique()\n",
    "It shows the total no. of unique values in each column of the dataframe.It can be applied on the particular column as well."
   ]
  },
  {
   "cell_type": "code",
   "execution_count": 221,
   "id": "02f7846a",
   "metadata": {},
   "outputs": [
    {
     "data": {
      "text/plain": [
       "Order ID            178438\n",
       "Product                 20\n",
       "Quantity Ordered        10\n",
       "Price Each              18\n",
       "Order Date          142396\n",
       "Purchase Address    140788\n",
       "dtype: int64"
      ]
     },
     "execution_count": 221,
     "metadata": {},
     "output_type": "execute_result"
    }
   ],
   "source": [
    "data.nunique()"
   ]
  },
  {
   "cell_type": "markdown",
   "id": "41c67df7",
   "metadata": {},
   "source": [
    "How we can check which are those unique values?"
   ]
  },
  {
   "cell_type": "code",
   "execution_count": 222,
   "id": "4debd86f",
   "metadata": {},
   "outputs": [
    {
     "data": {
      "text/plain": [
       "USB-C Charging Cable          21903\n",
       "Lightning Charging Cable      21658\n",
       "AAA Batteries (4-pack)        20641\n",
       "AA Batteries (4-pack)         20577\n",
       "Wired Headphones              18882\n",
       "Apple Airpods Headphones      15549\n",
       "Bose SoundSport Headphones    13325\n",
       "27in FHD Monitor               7507\n",
       "iPhone                         6842\n",
       "27in 4K Gaming Monitor         6230\n",
       "34in Ultrawide Monitor         6181\n",
       "Google Phone                   5525\n",
       "Flatscreen TV                  4800\n",
       "Macbook Pro Laptop             4724\n",
       "ThinkPad Laptop                4128\n",
       "20in Monitor                   4101\n",
       "Vareebadd Phone                2065\n",
       "LG Washing Machine              666\n",
       "LG Dryer                        646\n",
       "Product                         355\n",
       "Name: Product, dtype: int64"
      ]
     },
     "execution_count": 222,
     "metadata": {},
     "output_type": "execute_result"
    }
   ],
   "source": [
    "data.Product.value_counts()"
   ]
  },
  {
   "cell_type": "markdown",
   "id": "80825bff",
   "metadata": {},
   "source": [
    "check the data type of our data\n",
    ".info() gives all the information about the data"
   ]
  },
  {
   "cell_type": "code",
   "execution_count": 223,
   "id": "15c0f185",
   "metadata": {},
   "outputs": [
    {
     "data": {
      "text/plain": [
       "dtype('O')"
      ]
     },
     "execution_count": 223,
     "metadata": {},
     "output_type": "execute_result"
    }
   ],
   "source": [
    "data['Product'].dtype"
   ]
  },
  {
   "cell_type": "code",
   "execution_count": 224,
   "id": "f7cb9380",
   "metadata": {},
   "outputs": [
    {
     "name": "stdout",
     "output_type": "stream",
     "text": [
      "<class 'pandas.core.frame.DataFrame'>\n",
      "RangeIndex: 186850 entries, 0 to 186849\n",
      "Data columns (total 6 columns):\n",
      " #   Column            Non-Null Count   Dtype \n",
      "---  ------            --------------   ----- \n",
      " 0   Order ID          186305 non-null  object\n",
      " 1   Product           186305 non-null  object\n",
      " 2   Quantity Ordered  186305 non-null  object\n",
      " 3   Price Each        186305 non-null  object\n",
      " 4   Order Date        186305 non-null  object\n",
      " 5   Purchase Address  186305 non-null  object\n",
      "dtypes: object(6)\n",
      "memory usage: 8.6+ MB\n"
     ]
    }
   ],
   "source": [
    "data.info()"
   ]
  },
  {
   "cell_type": "markdown",
   "id": "c0d073ef",
   "metadata": {},
   "source": [
    "Is There Any missing values?"
   ]
  },
  {
   "cell_type": "code",
   "execution_count": 225,
   "id": "68075aad",
   "metadata": {},
   "outputs": [
    {
     "data": {
      "text/plain": [
       "Order ID            545\n",
       "Product             545\n",
       "Quantity Ordered    545\n",
       "Price Each          545\n",
       "Order Date          545\n",
       "Purchase Address    545\n",
       "dtype: int64"
      ]
     },
     "execution_count": 225,
     "metadata": {},
     "output_type": "execute_result"
    }
   ],
   "source": [
    "data.isnull().sum()"
   ]
  },
  {
   "cell_type": "code",
   "execution_count": 226,
   "id": "09a90c6b",
   "metadata": {},
   "outputs": [
    {
     "data": {
      "text/html": [
       "<div>\n",
       "<style scoped>\n",
       "    .dataframe tbody tr th:only-of-type {\n",
       "        vertical-align: middle;\n",
       "    }\n",
       "\n",
       "    .dataframe tbody tr th {\n",
       "        vertical-align: top;\n",
       "    }\n",
       "\n",
       "    .dataframe thead th {\n",
       "        text-align: right;\n",
       "    }\n",
       "</style>\n",
       "<table border=\"1\" class=\"dataframe\">\n",
       "  <thead>\n",
       "    <tr style=\"text-align: right;\">\n",
       "      <th></th>\n",
       "      <th>Order ID</th>\n",
       "      <th>Product</th>\n",
       "      <th>Quantity Ordered</th>\n",
       "      <th>Price Each</th>\n",
       "      <th>Order Date</th>\n",
       "      <th>Purchase Address</th>\n",
       "    </tr>\n",
       "  </thead>\n",
       "  <tbody>\n",
       "    <tr>\n",
       "      <th>0</th>\n",
       "      <td>176558</td>\n",
       "      <td>USB-C Charging Cable</td>\n",
       "      <td>2</td>\n",
       "      <td>11.95</td>\n",
       "      <td>04/19/19 08:46</td>\n",
       "      <td>917 1st St, Dallas, TX 75001</td>\n",
       "    </tr>\n",
       "    <tr>\n",
       "      <th>1</th>\n",
       "      <td>NaN</td>\n",
       "      <td>NaN</td>\n",
       "      <td>NaN</td>\n",
       "      <td>NaN</td>\n",
       "      <td>NaN</td>\n",
       "      <td>NaN</td>\n",
       "    </tr>\n",
       "    <tr>\n",
       "      <th>2</th>\n",
       "      <td>176559</td>\n",
       "      <td>Bose SoundSport Headphones</td>\n",
       "      <td>1</td>\n",
       "      <td>99.99</td>\n",
       "      <td>04-07-2019 22:30</td>\n",
       "      <td>682 Chestnut St, Boston, MA 02215</td>\n",
       "    </tr>\n",
       "    <tr>\n",
       "      <th>3</th>\n",
       "      <td>176560</td>\n",
       "      <td>Google Phone</td>\n",
       "      <td>1</td>\n",
       "      <td>600</td>\n",
       "      <td>04-12-2019 14:38</td>\n",
       "      <td>669 Spruce St, Los Angeles, CA 90001</td>\n",
       "    </tr>\n",
       "    <tr>\n",
       "      <th>4</th>\n",
       "      <td>176560</td>\n",
       "      <td>Wired Headphones</td>\n",
       "      <td>1</td>\n",
       "      <td>11.99</td>\n",
       "      <td>04-12-2019 14:38</td>\n",
       "      <td>669 Spruce St, Los Angeles, CA 90001</td>\n",
       "    </tr>\n",
       "  </tbody>\n",
       "</table>\n",
       "</div>"
      ],
      "text/plain": [
       "  Order ID                     Product Quantity Ordered Price Each  \\\n",
       "0   176558        USB-C Charging Cable                2      11.95   \n",
       "1      NaN                         NaN              NaN        NaN   \n",
       "2   176559  Bose SoundSport Headphones                1      99.99   \n",
       "3   176560                Google Phone                1        600   \n",
       "4   176560            Wired Headphones                1      11.99   \n",
       "\n",
       "         Order Date                      Purchase Address  \n",
       "0    04/19/19 08:46          917 1st St, Dallas, TX 75001  \n",
       "1               NaN                                   NaN  \n",
       "2  04-07-2019 22:30     682 Chestnut St, Boston, MA 02215  \n",
       "3  04-12-2019 14:38  669 Spruce St, Los Angeles, CA 90001  \n",
       "4  04-12-2019 14:38  669 Spruce St, Los Angeles, CA 90001  "
      ]
     },
     "execution_count": 226,
     "metadata": {},
     "output_type": "execute_result"
    }
   ],
   "source": [
    "data.head(5)"
   ]
  },
  {
   "cell_type": "code",
   "execution_count": 227,
   "id": "c5b36c62",
   "metadata": {},
   "outputs": [],
   "source": [
    "data.dropna(inplace=True)"
   ]
  },
  {
   "cell_type": "markdown",
   "id": "27569ac1",
   "metadata": {},
   "source": [
    "Analysis 1: What was the best month for sales? How much was earned that month?"
   ]
  },
  {
   "cell_type": "code",
   "execution_count": 228,
   "id": "31416268",
   "metadata": {},
   "outputs": [],
   "source": [
    "data=data[data['Order Date'].str[0:2] != 'Or']"
   ]
  },
  {
   "cell_type": "code",
   "execution_count": 229,
   "id": "1f3614ea",
   "metadata": {},
   "outputs": [],
   "source": [
    "#data['Month']=data['Order Date'].str[0:2]\n",
    "#data['Month']=pd.to_numeric(data.Month, errors='coerce')\n"
   ]
  },
  {
   "cell_type": "code",
   "execution_count": 230,
   "id": "c33ee104",
   "metadata": {},
   "outputs": [
    {
     "name": "stderr",
     "output_type": "stream",
     "text": [
      "<ipython-input-230-43064eeb1f04>:1: SettingWithCopyWarning: \n",
      "A value is trying to be set on a copy of a slice from a DataFrame.\n",
      "Try using .loc[row_indexer,col_indexer] = value instead\n",
      "\n",
      "See the caveats in the documentation: https://pandas.pydata.org/pandas-docs/stable/user_guide/indexing.html#returning-a-view-versus-a-copy\n",
      "  data['Month']=data['Order Date'].str[0:2]\n",
      "<ipython-input-230-43064eeb1f04>:2: SettingWithCopyWarning: \n",
      "A value is trying to be set on a copy of a slice from a DataFrame.\n",
      "Try using .loc[row_indexer,col_indexer] = value instead\n",
      "\n",
      "See the caveats in the documentation: https://pandas.pydata.org/pandas-docs/stable/user_guide/indexing.html#returning-a-view-versus-a-copy\n",
      "  data['Month']=data['Month'].astype('int32')\n"
     ]
    }
   ],
   "source": [
    "data['Month']=data['Order Date'].str[0:2]\n",
    "data['Month']=data['Month'].astype('int32')"
   ]
  },
  {
   "cell_type": "code",
   "execution_count": 231,
   "id": "5c6e8f92",
   "metadata": {},
   "outputs": [
    {
     "data": {
      "text/plain": [
       "Order ID            object\n",
       "Product             object\n",
       "Quantity Ordered    object\n",
       "Price Each          object\n",
       "Order Date          object\n",
       "Purchase Address    object\n",
       "Month                int32\n",
       "dtype: object"
      ]
     },
     "execution_count": 231,
     "metadata": {},
     "output_type": "execute_result"
    }
   ],
   "source": [
    "data.dtypes"
   ]
  },
  {
   "cell_type": "code",
   "execution_count": 232,
   "id": "5436cb46",
   "metadata": {},
   "outputs": [],
   "source": [
    "import calendar\n"
   ]
  },
  {
   "cell_type": "code",
   "execution_count": 233,
   "id": "39ed45b2",
   "metadata": {},
   "outputs": [
    {
     "name": "stderr",
     "output_type": "stream",
     "text": [
      "<ipython-input-233-dc3bbd7490fe>:1: SettingWithCopyWarning: \n",
      "A value is trying to be set on a copy of a slice from a DataFrame.\n",
      "Try using .loc[row_indexer,col_indexer] = value instead\n",
      "\n",
      "See the caveats in the documentation: https://pandas.pydata.org/pandas-docs/stable/user_guide/indexing.html#returning-a-view-versus-a-copy\n",
      "  data['Month'] = data['Month'].apply(lambda x: calendar.month_abbr[x])\n"
     ]
    }
   ],
   "source": [
    "data['Month'] = data['Month'].apply(lambda x: calendar.month_abbr[x])"
   ]
  },
  {
   "cell_type": "code",
   "execution_count": 234,
   "id": "1ef07579",
   "metadata": {},
   "outputs": [
    {
     "ename": "KeyError",
     "evalue": "'Apr'",
     "output_type": "error",
     "traceback": [
      "\u001b[1;31m---------------------------------------------------------------------------\u001b[0m",
      "\u001b[1;31mKeyError\u001b[0m                                  Traceback (most recent call last)",
      "\u001b[1;32m<ipython-input-234-8fcf58165ffe>\u001b[0m in \u001b[0;36m<module>\u001b[1;34m\u001b[0m\n\u001b[0;32m      1\u001b[0m look_up={'01':'Jan', '02': 'Feb', '03': 'Mar', '04': 'Apr', '05': 'May',\n\u001b[0;32m      2\u001b[0m            '06': 'Jun', '07': 'Jul', '08': 'Aug', '09': 'Sep', '10': 'Oct', '11': 'Nov', '12': 'Dec'}\n\u001b[1;32m----> 3\u001b[1;33m \u001b[0mdata\u001b[0m\u001b[1;33m[\u001b[0m\u001b[1;34m'Month'\u001b[0m\u001b[1;33m]\u001b[0m\u001b[1;33m=\u001b[0m\u001b[0mdata\u001b[0m\u001b[1;33m[\u001b[0m\u001b[1;34m'Month'\u001b[0m\u001b[1;33m]\u001b[0m\u001b[1;33m.\u001b[0m\u001b[0mapply\u001b[0m\u001b[1;33m(\u001b[0m\u001b[1;32mlambda\u001b[0m \u001b[0mx\u001b[0m\u001b[1;33m:\u001b[0m \u001b[0mlook_up\u001b[0m\u001b[1;33m[\u001b[0m\u001b[0mx\u001b[0m\u001b[1;33m]\u001b[0m\u001b[1;33m)\u001b[0m\u001b[1;33m\u001b[0m\u001b[1;33m\u001b[0m\u001b[0m\n\u001b[0m",
      "\u001b[1;32m~\\anaconda3\\lib\\site-packages\\pandas\\core\\series.py\u001b[0m in \u001b[0;36mapply\u001b[1;34m(self, func, convert_dtype, args, **kwds)\u001b[0m\n\u001b[0;32m   4136\u001b[0m             \u001b[1;32melse\u001b[0m\u001b[1;33m:\u001b[0m\u001b[1;33m\u001b[0m\u001b[1;33m\u001b[0m\u001b[0m\n\u001b[0;32m   4137\u001b[0m                 \u001b[0mvalues\u001b[0m \u001b[1;33m=\u001b[0m \u001b[0mself\u001b[0m\u001b[1;33m.\u001b[0m\u001b[0mastype\u001b[0m\u001b[1;33m(\u001b[0m\u001b[0mobject\u001b[0m\u001b[1;33m)\u001b[0m\u001b[1;33m.\u001b[0m\u001b[0m_values\u001b[0m\u001b[1;33m\u001b[0m\u001b[1;33m\u001b[0m\u001b[0m\n\u001b[1;32m-> 4138\u001b[1;33m                 \u001b[0mmapped\u001b[0m \u001b[1;33m=\u001b[0m \u001b[0mlib\u001b[0m\u001b[1;33m.\u001b[0m\u001b[0mmap_infer\u001b[0m\u001b[1;33m(\u001b[0m\u001b[0mvalues\u001b[0m\u001b[1;33m,\u001b[0m \u001b[0mf\u001b[0m\u001b[1;33m,\u001b[0m \u001b[0mconvert\u001b[0m\u001b[1;33m=\u001b[0m\u001b[0mconvert_dtype\u001b[0m\u001b[1;33m)\u001b[0m\u001b[1;33m\u001b[0m\u001b[1;33m\u001b[0m\u001b[0m\n\u001b[0m\u001b[0;32m   4139\u001b[0m \u001b[1;33m\u001b[0m\u001b[0m\n\u001b[0;32m   4140\u001b[0m         \u001b[1;32mif\u001b[0m \u001b[0mlen\u001b[0m\u001b[1;33m(\u001b[0m\u001b[0mmapped\u001b[0m\u001b[1;33m)\u001b[0m \u001b[1;32mand\u001b[0m \u001b[0misinstance\u001b[0m\u001b[1;33m(\u001b[0m\u001b[0mmapped\u001b[0m\u001b[1;33m[\u001b[0m\u001b[1;36m0\u001b[0m\u001b[1;33m]\u001b[0m\u001b[1;33m,\u001b[0m \u001b[0mSeries\u001b[0m\u001b[1;33m)\u001b[0m\u001b[1;33m:\u001b[0m\u001b[1;33m\u001b[0m\u001b[1;33m\u001b[0m\u001b[0m\n",
      "\u001b[1;32mpandas\\_libs\\lib.pyx\u001b[0m in \u001b[0;36mpandas._libs.lib.map_infer\u001b[1;34m()\u001b[0m\n",
      "\u001b[1;32m<ipython-input-234-8fcf58165ffe>\u001b[0m in \u001b[0;36m<lambda>\u001b[1;34m(x)\u001b[0m\n\u001b[0;32m      1\u001b[0m look_up={'01':'Jan', '02': 'Feb', '03': 'Mar', '04': 'Apr', '05': 'May',\n\u001b[0;32m      2\u001b[0m            '06': 'Jun', '07': 'Jul', '08': 'Aug', '09': 'Sep', '10': 'Oct', '11': 'Nov', '12': 'Dec'}\n\u001b[1;32m----> 3\u001b[1;33m \u001b[0mdata\u001b[0m\u001b[1;33m[\u001b[0m\u001b[1;34m'Month'\u001b[0m\u001b[1;33m]\u001b[0m\u001b[1;33m=\u001b[0m\u001b[0mdata\u001b[0m\u001b[1;33m[\u001b[0m\u001b[1;34m'Month'\u001b[0m\u001b[1;33m]\u001b[0m\u001b[1;33m.\u001b[0m\u001b[0mapply\u001b[0m\u001b[1;33m(\u001b[0m\u001b[1;32mlambda\u001b[0m \u001b[0mx\u001b[0m\u001b[1;33m:\u001b[0m \u001b[0mlook_up\u001b[0m\u001b[1;33m[\u001b[0m\u001b[0mx\u001b[0m\u001b[1;33m]\u001b[0m\u001b[1;33m)\u001b[0m\u001b[1;33m\u001b[0m\u001b[1;33m\u001b[0m\u001b[0m\n\u001b[0m",
      "\u001b[1;31mKeyError\u001b[0m: 'Apr'"
     ]
    }
   ],
   "source": [
    "look_up={'01':'Jan', '02': 'Feb', '03': 'Mar', '04': 'Apr', '05': 'May',\n",
    "           '06': 'Jun', '07': 'Jul', '08': 'Aug', '09': 'Sep', '10': 'Oct', '11': 'Nov', '12': 'Dec'}\n",
    "data['Month']=data['Month'].apply(lambda x: look_up[x])"
   ]
  },
  {
   "cell_type": "code",
   "execution_count": 235,
   "id": "88fffbcc",
   "metadata": {},
   "outputs": [
    {
     "data": {
      "text/html": [
       "<div>\n",
       "<style scoped>\n",
       "    .dataframe tbody tr th:only-of-type {\n",
       "        vertical-align: middle;\n",
       "    }\n",
       "\n",
       "    .dataframe tbody tr th {\n",
       "        vertical-align: top;\n",
       "    }\n",
       "\n",
       "    .dataframe thead th {\n",
       "        text-align: right;\n",
       "    }\n",
       "</style>\n",
       "<table border=\"1\" class=\"dataframe\">\n",
       "  <thead>\n",
       "    <tr style=\"text-align: right;\">\n",
       "      <th></th>\n",
       "      <th>Order ID</th>\n",
       "      <th>Product</th>\n",
       "      <th>Quantity Ordered</th>\n",
       "      <th>Price Each</th>\n",
       "      <th>Order Date</th>\n",
       "      <th>Purchase Address</th>\n",
       "      <th>Month</th>\n",
       "    </tr>\n",
       "  </thead>\n",
       "  <tbody>\n",
       "    <tr>\n",
       "      <th>0</th>\n",
       "      <td>176558</td>\n",
       "      <td>USB-C Charging Cable</td>\n",
       "      <td>2</td>\n",
       "      <td>11.95</td>\n",
       "      <td>04/19/19 08:46</td>\n",
       "      <td>917 1st St, Dallas, TX 75001</td>\n",
       "      <td>Apr</td>\n",
       "    </tr>\n",
       "    <tr>\n",
       "      <th>2</th>\n",
       "      <td>176559</td>\n",
       "      <td>Bose SoundSport Headphones</td>\n",
       "      <td>1</td>\n",
       "      <td>99.99</td>\n",
       "      <td>04-07-2019 22:30</td>\n",
       "      <td>682 Chestnut St, Boston, MA 02215</td>\n",
       "      <td>Apr</td>\n",
       "    </tr>\n",
       "    <tr>\n",
       "      <th>3</th>\n",
       "      <td>176560</td>\n",
       "      <td>Google Phone</td>\n",
       "      <td>1</td>\n",
       "      <td>600</td>\n",
       "      <td>04-12-2019 14:38</td>\n",
       "      <td>669 Spruce St, Los Angeles, CA 90001</td>\n",
       "      <td>Apr</td>\n",
       "    </tr>\n",
       "    <tr>\n",
       "      <th>4</th>\n",
       "      <td>176560</td>\n",
       "      <td>Wired Headphones</td>\n",
       "      <td>1</td>\n",
       "      <td>11.99</td>\n",
       "      <td>04-12-2019 14:38</td>\n",
       "      <td>669 Spruce St, Los Angeles, CA 90001</td>\n",
       "      <td>Apr</td>\n",
       "    </tr>\n",
       "    <tr>\n",
       "      <th>5</th>\n",
       "      <td>176561</td>\n",
       "      <td>Wired Headphones</td>\n",
       "      <td>1</td>\n",
       "      <td>11.99</td>\n",
       "      <td>04/30/19 09:27</td>\n",
       "      <td>333 8th St, Los Angeles, CA 90001</td>\n",
       "      <td>Apr</td>\n",
       "    </tr>\n",
       "  </tbody>\n",
       "</table>\n",
       "</div>"
      ],
      "text/plain": [
       "  Order ID                     Product Quantity Ordered Price Each  \\\n",
       "0   176558        USB-C Charging Cable                2      11.95   \n",
       "2   176559  Bose SoundSport Headphones                1      99.99   \n",
       "3   176560                Google Phone                1        600   \n",
       "4   176560            Wired Headphones                1      11.99   \n",
       "5   176561            Wired Headphones                1      11.99   \n",
       "\n",
       "         Order Date                      Purchase Address Month  \n",
       "0    04/19/19 08:46          917 1st St, Dallas, TX 75001   Apr  \n",
       "2  04-07-2019 22:30     682 Chestnut St, Boston, MA 02215   Apr  \n",
       "3  04-12-2019 14:38  669 Spruce St, Los Angeles, CA 90001   Apr  \n",
       "4  04-12-2019 14:38  669 Spruce St, Los Angeles, CA 90001   Apr  \n",
       "5    04/30/19 09:27     333 8th St, Los Angeles, CA 90001   Apr  "
      ]
     },
     "execution_count": 235,
     "metadata": {},
     "output_type": "execute_result"
    }
   ],
   "source": [
    "data.head()"
   ]
  },
  {
   "cell_type": "code",
   "execution_count": 236,
   "id": "80b0a830",
   "metadata": {},
   "outputs": [
    {
     "name": "stderr",
     "output_type": "stream",
     "text": [
      "<ipython-input-236-da830ef124ca>:1: SettingWithCopyWarning: \n",
      "A value is trying to be set on a copy of a slice from a DataFrame.\n",
      "Try using .loc[row_indexer,col_indexer] = value instead\n",
      "\n",
      "See the caveats in the documentation: https://pandas.pydata.org/pandas-docs/stable/user_guide/indexing.html#returning-a-view-versus-a-copy\n",
      "  data['Quantity Ordered'] = data['Quantity Ordered'].astype('float')\n",
      "<ipython-input-236-da830ef124ca>:2: SettingWithCopyWarning: \n",
      "A value is trying to be set on a copy of a slice from a DataFrame.\n",
      "Try using .loc[row_indexer,col_indexer] = value instead\n",
      "\n",
      "See the caveats in the documentation: https://pandas.pydata.org/pandas-docs/stable/user_guide/indexing.html#returning-a-view-versus-a-copy\n",
      "  data['Price Each'] = data['Price Each'].astype('float')\n"
     ]
    }
   ],
   "source": [
    "data['Quantity Ordered'] = data['Quantity Ordered'].astype('float')\n",
    "data['Price Each'] = data['Price Each'].astype('float')"
   ]
  },
  {
   "cell_type": "code",
   "execution_count": 237,
   "id": "3c3fb6a8",
   "metadata": {},
   "outputs": [
    {
     "data": {
      "text/plain": [
       "Order ID             object\n",
       "Product              object\n",
       "Quantity Ordered    float64\n",
       "Price Each          float64\n",
       "Order Date           object\n",
       "Purchase Address     object\n",
       "Month                object\n",
       "dtype: object"
      ]
     },
     "execution_count": 237,
     "metadata": {},
     "output_type": "execute_result"
    }
   ],
   "source": [
    "data.dtypes"
   ]
  },
  {
   "cell_type": "code",
   "execution_count": 238,
   "id": "1726c242",
   "metadata": {},
   "outputs": [
    {
     "name": "stderr",
     "output_type": "stream",
     "text": [
      "<ipython-input-238-14fe5de911bb>:1: SettingWithCopyWarning: \n",
      "A value is trying to be set on a copy of a slice from a DataFrame.\n",
      "Try using .loc[row_indexer,col_indexer] = value instead\n",
      "\n",
      "See the caveats in the documentation: https://pandas.pydata.org/pandas-docs/stable/user_guide/indexing.html#returning-a-view-versus-a-copy\n",
      "  data['Sales']=data['Quantity Ordered'] * data['Price Each']\n"
     ]
    }
   ],
   "source": [
    "data['Sales']=data['Quantity Ordered'] * data['Price Each']"
   ]
  },
  {
   "cell_type": "code",
   "execution_count": 239,
   "id": "fcec02c2",
   "metadata": {},
   "outputs": [
    {
     "data": {
      "text/html": [
       "<div>\n",
       "<style scoped>\n",
       "    .dataframe tbody tr th:only-of-type {\n",
       "        vertical-align: middle;\n",
       "    }\n",
       "\n",
       "    .dataframe tbody tr th {\n",
       "        vertical-align: top;\n",
       "    }\n",
       "\n",
       "    .dataframe thead th {\n",
       "        text-align: right;\n",
       "    }\n",
       "</style>\n",
       "<table border=\"1\" class=\"dataframe\">\n",
       "  <thead>\n",
       "    <tr style=\"text-align: right;\">\n",
       "      <th></th>\n",
       "      <th>Order ID</th>\n",
       "      <th>Product</th>\n",
       "      <th>Quantity Ordered</th>\n",
       "      <th>Price Each</th>\n",
       "      <th>Order Date</th>\n",
       "      <th>Purchase Address</th>\n",
       "      <th>Month</th>\n",
       "      <th>Sales</th>\n",
       "    </tr>\n",
       "  </thead>\n",
       "  <tbody>\n",
       "    <tr>\n",
       "      <th>0</th>\n",
       "      <td>176558</td>\n",
       "      <td>USB-C Charging Cable</td>\n",
       "      <td>2.0</td>\n",
       "      <td>11.95</td>\n",
       "      <td>04/19/19 08:46</td>\n",
       "      <td>917 1st St, Dallas, TX 75001</td>\n",
       "      <td>Apr</td>\n",
       "      <td>23.9</td>\n",
       "    </tr>\n",
       "  </tbody>\n",
       "</table>\n",
       "</div>"
      ],
      "text/plain": [
       "  Order ID               Product  Quantity Ordered  Price Each  \\\n",
       "0   176558  USB-C Charging Cable               2.0       11.95   \n",
       "\n",
       "       Order Date              Purchase Address Month  Sales  \n",
       "0  04/19/19 08:46  917 1st St, Dallas, TX 75001   Apr   23.9  "
      ]
     },
     "execution_count": 239,
     "metadata": {},
     "output_type": "execute_result"
    }
   ],
   "source": [
    "data.head(1)"
   ]
  },
  {
   "cell_type": "code",
   "execution_count": 240,
   "id": "490635ce",
   "metadata": {},
   "outputs": [],
   "source": [
    "highest_sales=data.groupby('Month').sum()"
   ]
  },
  {
   "cell_type": "code",
   "execution_count": 241,
   "id": "550bcd2b",
   "metadata": {},
   "outputs": [
    {
     "data": {
      "text/html": [
       "<div>\n",
       "<style scoped>\n",
       "    .dataframe tbody tr th:only-of-type {\n",
       "        vertical-align: middle;\n",
       "    }\n",
       "\n",
       "    .dataframe tbody tr th {\n",
       "        vertical-align: top;\n",
       "    }\n",
       "\n",
       "    .dataframe thead th {\n",
       "        text-align: right;\n",
       "    }\n",
       "</style>\n",
       "<table border=\"1\" class=\"dataframe\">\n",
       "  <thead>\n",
       "    <tr style=\"text-align: right;\">\n",
       "      <th></th>\n",
       "      <th>Quantity Ordered</th>\n",
       "      <th>Price Each</th>\n",
       "      <th>Sales</th>\n",
       "    </tr>\n",
       "    <tr>\n",
       "      <th>Month</th>\n",
       "      <th></th>\n",
       "      <th></th>\n",
       "      <th></th>\n",
       "    </tr>\n",
       "  </thead>\n",
       "  <tbody>\n",
       "    <tr>\n",
       "      <th>Apr</th>\n",
       "      <td>20558.0</td>\n",
       "      <td>3.367671e+06</td>\n",
       "      <td>3.390670e+06</td>\n",
       "    </tr>\n",
       "    <tr>\n",
       "      <th>Aug</th>\n",
       "      <td>13448.0</td>\n",
       "      <td>2.230345e+06</td>\n",
       "      <td>2.244468e+06</td>\n",
       "    </tr>\n",
       "    <tr>\n",
       "      <th>Dec</th>\n",
       "      <td>28114.0</td>\n",
       "      <td>4.588415e+06</td>\n",
       "      <td>4.613443e+06</td>\n",
       "    </tr>\n",
       "    <tr>\n",
       "      <th>Feb</th>\n",
       "      <td>13449.0</td>\n",
       "      <td>2.188885e+06</td>\n",
       "      <td>2.202022e+06</td>\n",
       "    </tr>\n",
       "    <tr>\n",
       "      <th>Jan</th>\n",
       "      <td>10903.0</td>\n",
       "      <td>1.811768e+06</td>\n",
       "      <td>1.822257e+06</td>\n",
       "    </tr>\n",
       "  </tbody>\n",
       "</table>\n",
       "</div>"
      ],
      "text/plain": [
       "       Quantity Ordered    Price Each         Sales\n",
       "Month                                              \n",
       "Apr             20558.0  3.367671e+06  3.390670e+06\n",
       "Aug             13448.0  2.230345e+06  2.244468e+06\n",
       "Dec             28114.0  4.588415e+06  4.613443e+06\n",
       "Feb             13449.0  2.188885e+06  2.202022e+06\n",
       "Jan             10903.0  1.811768e+06  1.822257e+06"
      ]
     },
     "execution_count": 241,
     "metadata": {},
     "output_type": "execute_result"
    }
   ],
   "source": [
    "highest_sales.head(5)"
   ]
  },
  {
   "cell_type": "code",
   "execution_count": 242,
   "id": "092ea556",
   "metadata": {},
   "outputs": [
    {
     "data": {
      "image/png": "[encoded data removed]",
      "text/plain": [
       "<Figure size 432x288 with 1 Axes>"
      ]
     },
     "metadata": {
      "needs_background": "light"
     },
     "output_type": "display_data"
    }
   ],
   "source": [
    "plt.bar(highest_sales.index,highest_sales['Sales'])\n",
    "plt.xlabel('Month data')\n",
    "plt.ylabel('Sales data')\n",
    "plt.show()"
   ]
  },
  {
   "cell_type": "markdown",
   "id": "1f75741a",
   "metadata": {},
   "source": [
    "Analysis 2: What city sold the most product?"
   ]
  },
  {
   "cell_type": "code",
   "execution_count": 243,
   "id": "45b15ad1",
   "metadata": {},
   "outputs": [
    {
     "data": {
      "text/html": [
       "<div>\n",
       "<style scoped>\n",
       "    .dataframe tbody tr th:only-of-type {\n",
       "        vertical-align: middle;\n",
       "    }\n",
       "\n",
       "    .dataframe tbody tr th {\n",
       "        vertical-align: top;\n",
       "    }\n",
       "\n",
       "    .dataframe thead th {\n",
       "        text-align: right;\n",
       "    }\n",
       "</style>\n",
       "<table border=\"1\" class=\"dataframe\">\n",
       "  <thead>\n",
       "    <tr style=\"text-align: right;\">\n",
       "      <th></th>\n",
       "      <th>Order ID</th>\n",
       "      <th>Product</th>\n",
       "      <th>Quantity Ordered</th>\n",
       "      <th>Price Each</th>\n",
       "      <th>Order Date</th>\n",
       "      <th>Purchase Address</th>\n",
       "      <th>Month</th>\n",
       "      <th>Sales</th>\n",
       "    </tr>\n",
       "  </thead>\n",
       "  <tbody>\n",
       "    <tr>\n",
       "      <th>0</th>\n",
       "      <td>176558</td>\n",
       "      <td>USB-C Charging Cable</td>\n",
       "      <td>2.0</td>\n",
       "      <td>11.95</td>\n",
       "      <td>04/19/19 08:46</td>\n",
       "      <td>917 1st St, Dallas, TX 75001</td>\n",
       "      <td>Apr</td>\n",
       "      <td>23.90</td>\n",
       "    </tr>\n",
       "    <tr>\n",
       "      <th>2</th>\n",
       "      <td>176559</td>\n",
       "      <td>Bose SoundSport Headphones</td>\n",
       "      <td>1.0</td>\n",
       "      <td>99.99</td>\n",
       "      <td>04-07-2019 22:30</td>\n",
       "      <td>682 Chestnut St, Boston, MA 02215</td>\n",
       "      <td>Apr</td>\n",
       "      <td>99.99</td>\n",
       "    </tr>\n",
       "    <tr>\n",
       "      <th>3</th>\n",
       "      <td>176560</td>\n",
       "      <td>Google Phone</td>\n",
       "      <td>1.0</td>\n",
       "      <td>600.00</td>\n",
       "      <td>04-12-2019 14:38</td>\n",
       "      <td>669 Spruce St, Los Angeles, CA 90001</td>\n",
       "      <td>Apr</td>\n",
       "      <td>600.00</td>\n",
       "    </tr>\n",
       "    <tr>\n",
       "      <th>4</th>\n",
       "      <td>176560</td>\n",
       "      <td>Wired Headphones</td>\n",
       "      <td>1.0</td>\n",
       "      <td>11.99</td>\n",
       "      <td>04-12-2019 14:38</td>\n",
       "      <td>669 Spruce St, Los Angeles, CA 90001</td>\n",
       "      <td>Apr</td>\n",
       "      <td>11.99</td>\n",
       "    </tr>\n",
       "    <tr>\n",
       "      <th>5</th>\n",
       "      <td>176561</td>\n",
       "      <td>Wired Headphones</td>\n",
       "      <td>1.0</td>\n",
       "      <td>11.99</td>\n",
       "      <td>04/30/19 09:27</td>\n",
       "      <td>333 8th St, Los Angeles, CA 90001</td>\n",
       "      <td>Apr</td>\n",
       "      <td>11.99</td>\n",
       "    </tr>\n",
       "  </tbody>\n",
       "</table>\n",
       "</div>"
      ],
      "text/plain": [
       "  Order ID                     Product  Quantity Ordered  Price Each  \\\n",
       "0   176558        USB-C Charging Cable               2.0       11.95   \n",
       "2   176559  Bose SoundSport Headphones               1.0       99.99   \n",
       "3   176560                Google Phone               1.0      600.00   \n",
       "4   176560            Wired Headphones               1.0       11.99   \n",
       "5   176561            Wired Headphones               1.0       11.99   \n",
       "\n",
       "         Order Date                      Purchase Address Month   Sales  \n",
       "0    04/19/19 08:46          917 1st St, Dallas, TX 75001   Apr   23.90  \n",
       "2  04-07-2019 22:30     682 Chestnut St, Boston, MA 02215   Apr   99.99  \n",
       "3  04-12-2019 14:38  669 Spruce St, Los Angeles, CA 90001   Apr  600.00  \n",
       "4  04-12-2019 14:38  669 Spruce St, Los Angeles, CA 90001   Apr   11.99  \n",
       "5    04/30/19 09:27     333 8th St, Los Angeles, CA 90001   Apr   11.99  "
      ]
     },
     "execution_count": 243,
     "metadata": {},
     "output_type": "execute_result"
    }
   ],
   "source": [
    "data.head(5)"
   ]
  },
  {
   "cell_type": "code",
   "execution_count": 244,
   "id": "d05b7da9",
   "metadata": {},
   "outputs": [
    {
     "data": {
      "text/plain": [
       "['how', 'are', 'you']"
      ]
     },
     "execution_count": 244,
     "metadata": {},
     "output_type": "execute_result"
    }
   ],
   "source": [
    "df = 'how,are,you'\n",
    "df.split(',')"
   ]
  },
  {
   "cell_type": "code",
   "execution_count": 245,
   "id": "1c8bb6ef",
   "metadata": {},
   "outputs": [
    {
     "name": "stderr",
     "output_type": "stream",
     "text": [
      "<ipython-input-245-2587efec0731>:1: SettingWithCopyWarning: \n",
      "A value is trying to be set on a copy of a slice from a DataFrame.\n",
      "Try using .loc[row_indexer,col_indexer] = value instead\n",
      "\n",
      "See the caveats in the documentation: https://pandas.pydata.org/pandas-docs/stable/user_guide/indexing.html#returning-a-view-versus-a-copy\n",
      "  data['City'] = data['Purchase Address'].apply(lambda x: x.split(',') [1])\n"
     ]
    }
   ],
   "source": [
    "data['City'] = data['Purchase Address'].apply(lambda x: x.split(',') [1])"
   ]
  },
  {
   "cell_type": "code",
   "execution_count": 246,
   "id": "9915ff30",
   "metadata": {},
   "outputs": [
    {
     "data": {
      "text/html": [
       "<div>\n",
       "<style scoped>\n",
       "    .dataframe tbody tr th:only-of-type {\n",
       "        vertical-align: middle;\n",
       "    }\n",
       "\n",
       "    .dataframe tbody tr th {\n",
       "        vertical-align: top;\n",
       "    }\n",
       "\n",
       "    .dataframe thead th {\n",
       "        text-align: right;\n",
       "    }\n",
       "</style>\n",
       "<table border=\"1\" class=\"dataframe\">\n",
       "  <thead>\n",
       "    <tr style=\"text-align: right;\">\n",
       "      <th></th>\n",
       "      <th>Order ID</th>\n",
       "      <th>Product</th>\n",
       "      <th>Quantity Ordered</th>\n",
       "      <th>Price Each</th>\n",
       "      <th>Order Date</th>\n",
       "      <th>Purchase Address</th>\n",
       "      <th>Month</th>\n",
       "      <th>Sales</th>\n",
       "      <th>City</th>\n",
       "    </tr>\n",
       "  </thead>\n",
       "  <tbody>\n",
       "    <tr>\n",
       "      <th>0</th>\n",
       "      <td>176558</td>\n",
       "      <td>USB-C Charging Cable</td>\n",
       "      <td>2.0</td>\n",
       "      <td>11.95</td>\n",
       "      <td>04/19/19 08:46</td>\n",
       "      <td>917 1st St, Dallas, TX 75001</td>\n",
       "      <td>Apr</td>\n",
       "      <td>23.90</td>\n",
       "      <td>Dallas</td>\n",
       "    </tr>\n",
       "    <tr>\n",
       "      <th>2</th>\n",
       "      <td>176559</td>\n",
       "      <td>Bose SoundSport Headphones</td>\n",
       "      <td>1.0</td>\n",
       "      <td>99.99</td>\n",
       "      <td>04-07-2019 22:30</td>\n",
       "      <td>682 Chestnut St, Boston, MA 02215</td>\n",
       "      <td>Apr</td>\n",
       "      <td>99.99</td>\n",
       "      <td>Boston</td>\n",
       "    </tr>\n",
       "    <tr>\n",
       "      <th>3</th>\n",
       "      <td>176560</td>\n",
       "      <td>Google Phone</td>\n",
       "      <td>1.0</td>\n",
       "      <td>600.00</td>\n",
       "      <td>04-12-2019 14:38</td>\n",
       "      <td>669 Spruce St, Los Angeles, CA 90001</td>\n",
       "      <td>Apr</td>\n",
       "      <td>600.00</td>\n",
       "      <td>Los Angeles</td>\n",
       "    </tr>\n",
       "    <tr>\n",
       "      <th>4</th>\n",
       "      <td>176560</td>\n",
       "      <td>Wired Headphones</td>\n",
       "      <td>1.0</td>\n",
       "      <td>11.99</td>\n",
       "      <td>04-12-2019 14:38</td>\n",
       "      <td>669 Spruce St, Los Angeles, CA 90001</td>\n",
       "      <td>Apr</td>\n",
       "      <td>11.99</td>\n",
       "      <td>Los Angeles</td>\n",
       "    </tr>\n",
       "    <tr>\n",
       "      <th>5</th>\n",
       "      <td>176561</td>\n",
       "      <td>Wired Headphones</td>\n",
       "      <td>1.0</td>\n",
       "      <td>11.99</td>\n",
       "      <td>04/30/19 09:27</td>\n",
       "      <td>333 8th St, Los Angeles, CA 90001</td>\n",
       "      <td>Apr</td>\n",
       "      <td>11.99</td>\n",
       "      <td>Los Angeles</td>\n",
       "    </tr>\n",
       "  </tbody>\n",
       "</table>\n",
       "</div>"
      ],
      "text/plain": [
       "  Order ID                     Product  Quantity Ordered  Price Each  \\\n",
       "0   176558        USB-C Charging Cable               2.0       11.95   \n",
       "2   176559  Bose SoundSport Headphones               1.0       99.99   \n",
       "3   176560                Google Phone               1.0      600.00   \n",
       "4   176560            Wired Headphones               1.0       11.99   \n",
       "5   176561            Wired Headphones               1.0       11.99   \n",
       "\n",
       "         Order Date                      Purchase Address Month   Sales  \\\n",
       "0    04/19/19 08:46          917 1st St, Dallas, TX 75001   Apr   23.90   \n",
       "2  04-07-2019 22:30     682 Chestnut St, Boston, MA 02215   Apr   99.99   \n",
       "3  04-12-2019 14:38  669 Spruce St, Los Angeles, CA 90001   Apr  600.00   \n",
       "4  04-12-2019 14:38  669 Spruce St, Los Angeles, CA 90001   Apr   11.99   \n",
       "5    04/30/19 09:27     333 8th St, Los Angeles, CA 90001   Apr   11.99   \n",
       "\n",
       "           City  \n",
       "0        Dallas  \n",
       "2        Boston  \n",
       "3   Los Angeles  \n",
       "4   Los Angeles  \n",
       "5   Los Angeles  "
      ]
     },
     "execution_count": 246,
     "metadata": {},
     "output_type": "execute_result"
    }
   ],
   "source": [
    "data.head(5)"
   ]
  },
  {
   "cell_type": "code",
   "execution_count": 1,
   "id": "dfa7e4bb",
   "metadata": {},
   "outputs": [
    {
     "ename": "NameError",
     "evalue": "name 'data' is not defined",
     "output_type": "error",
     "traceback": [
      "\u001b[1;31m---------------------------------------------------------------------------\u001b[0m",
      "\u001b[1;31mNameError\u001b[0m                                 Traceback (most recent call last)",
      "\u001b[1;32m<ipython-input-1-4245ab1741b5>\u001b[0m in \u001b[0;36m<module>\u001b[1;34m\u001b[0m\n\u001b[1;32m----> 1\u001b[1;33m \u001b[0mCity_sold\u001b[0m\u001b[1;33m=\u001b[0m\u001b[0mdata\u001b[0m\u001b[1;33m.\u001b[0m\u001b[0mgroupby\u001b[0m\u001b[1;33m(\u001b[0m\u001b[1;34m'City'\u001b[0m\u001b[1;33m)\u001b[0m\u001b[1;33m.\u001b[0m\u001b[0msum\u001b[0m\u001b[1;33m(\u001b[0m\u001b[1;33m)\u001b[0m\u001b[1;33m\u001b[0m\u001b[1;33m\u001b[0m\u001b[0m\n\u001b[0m",
      "\u001b[1;31mNameError\u001b[0m: name 'data' is not defined"
     ]
    }
   ],
   "source": [
    "City_sold=data.groupby('City').sum()"
   ]
  },
  {
   "cell_type": "code",
   "execution_count": 248,
   "id": "68362415",
   "metadata": {},
   "outputs": [
    {
     "data": {
      "text/plain": [
       "Text(0, 0.5, 'Quantity Ordered Data')"
      ]
     },
     "execution_count": 248,
     "metadata": {},
     "output_type": "execute_result"
    },
    {
     "data": {
      "image/png": "[encoded data removed]",
      "text/plain": [
       "<Figure size 432x288 with 1 Axes>"
      ]
     },
     "metadata": {
      "needs_background": "light"
     },
     "output_type": "display_data"
    }
   ],
   "source": [
    "plt.bar(City_sold.index,City_sold['Quantity Ordered'])\n",
    "plt.xticks(rotation=90)\n",
    "plt.xlabel('City Data')\n",
    "plt.ylabel('Quantity Ordered Data')"
   ]
  },
  {
   "cell_type": "markdown",
   "id": "ab6fe91d",
   "metadata": {},
   "source": [
    "Analysis 3: What time should we display advertisements to maximize likelihood of customer’s buying products?"
   ]
  },
  {
   "cell_type": "code",
   "execution_count": 249,
   "id": "8c15646f",
   "metadata": {},
   "outputs": [
    {
     "name": "stderr",
     "output_type": "stream",
     "text": [
      "<ipython-input-249-471e7bf6a081>:1: SettingWithCopyWarning: \n",
      "A value is trying to be set on a copy of a slice from a DataFrame.\n",
      "Try using .loc[row_indexer,col_indexer] = value instead\n",
      "\n",
      "See the caveats in the documentation: https://pandas.pydata.org/pandas-docs/stable/user_guide/indexing.html#returning-a-view-versus-a-copy\n",
      "  data['Time']=data['Order Date'].str[8:11]\n"
     ]
    }
   ],
   "source": [
    "data['Time']=data['Order Date'].str[8:11]"
   ]
  },
  {
   "cell_type": "code",
   "execution_count": 250,
   "id": "14efce9c",
   "metadata": {},
   "outputs": [],
   "source": [
    "time_data=data.groupby('Time').sum()"
   ]
  },
  {
   "cell_type": "code",
   "execution_count": 251,
   "id": "4ece1dd4",
   "metadata": {},
   "outputs": [
    {
     "data": {
      "text/html": [
       "<div>\n",
       "<style scoped>\n",
       "    .dataframe tbody tr th:only-of-type {\n",
       "        vertical-align: middle;\n",
       "    }\n",
       "\n",
       "    .dataframe tbody tr th {\n",
       "        vertical-align: top;\n",
       "    }\n",
       "\n",
       "    .dataframe thead th {\n",
       "        text-align: right;\n",
       "    }\n",
       "</style>\n",
       "<table border=\"1\" class=\"dataframe\">\n",
       "  <thead>\n",
       "    <tr style=\"text-align: right;\">\n",
       "      <th></th>\n",
       "      <th>Quantity Ordered</th>\n",
       "      <th>Price Each</th>\n",
       "      <th>Sales</th>\n",
       "    </tr>\n",
       "    <tr>\n",
       "      <th>Time</th>\n",
       "      <th></th>\n",
       "      <th></th>\n",
       "      <th></th>\n",
       "    </tr>\n",
       "  </thead>\n",
       "  <tbody>\n",
       "    <tr>\n",
       "      <th>00</th>\n",
       "      <td>2715.0</td>\n",
       "      <td>425360.91</td>\n",
       "      <td>427999.65</td>\n",
       "    </tr>\n",
       "    <tr>\n",
       "      <th>01</th>\n",
       "      <td>1601.0</td>\n",
       "      <td>268490.94</td>\n",
       "      <td>270176.13</td>\n",
       "    </tr>\n",
       "    <tr>\n",
       "      <th>02</th>\n",
       "      <td>865.0</td>\n",
       "      <td>140157.20</td>\n",
       "      <td>140717.46</td>\n",
       "    </tr>\n",
       "    <tr>\n",
       "      <th>03</th>\n",
       "      <td>584.0</td>\n",
       "      <td>94727.53</td>\n",
       "      <td>95416.74</td>\n",
       "    </tr>\n",
       "    <tr>\n",
       "      <th>04</th>\n",
       "      <td>593.0</td>\n",
       "      <td>101450.83</td>\n",
       "      <td>101884.11</td>\n",
       "    </tr>\n",
       "  </tbody>\n",
       "</table>\n",
       "</div>"
      ],
      "text/plain": [
       "      Quantity Ordered  Price Each      Sales\n",
       "Time                                         \n",
       " 00             2715.0   425360.91  427999.65\n",
       " 01             1601.0   268490.94  270176.13\n",
       " 02              865.0   140157.20  140717.46\n",
       " 03              584.0    94727.53   95416.74\n",
       " 04              593.0   101450.83  101884.11"
      ]
     },
     "execution_count": 251,
     "metadata": {},
     "output_type": "execute_result"
    }
   ],
   "source": [
    "time_data.head()"
   ]
  },
  {
   "cell_type": "code",
   "execution_count": 269,
   "id": "959e7401",
   "metadata": {},
   "outputs": [
    {
     "data": {
      "image/png": "[encoded data removed]",
      "text/plain": [
       "<Figure size 432x288 with 1 Axes>"
      ]
     },
     "metadata": {
      "needs_background": "light"
     },
     "output_type": "display_data"
    }
   ],
   "source": [
    "plt.show()\n",
    "plt.plot(time_data.index,time_data[\"Quantity Ordered\"])\n",
    "plt.show()"
   ]
  },
  {
   "cell_type": "markdown",
   "id": "69643229",
   "metadata": {},
   "source": [
    "Analysis 4: What Products are most often sold together?"
   ]
  },
  {
   "cell_type": "code",
   "execution_count": 253,
   "id": "aa93be6a",
   "metadata": {},
   "outputs": [
    {
     "data": {
      "text/html": [
       "<div>\n",
       "<style scoped>\n",
       "    .dataframe tbody tr th:only-of-type {\n",
       "        vertical-align: middle;\n",
       "    }\n",
       "\n",
       "    .dataframe tbody tr th {\n",
       "        vertical-align: top;\n",
       "    }\n",
       "\n",
       "    .dataframe thead th {\n",
       "        text-align: right;\n",
       "    }\n",
       "</style>\n",
       "<table border=\"1\" class=\"dataframe\">\n",
       "  <thead>\n",
       "    <tr style=\"text-align: right;\">\n",
       "      <th></th>\n",
       "      <th>Order ID</th>\n",
       "      <th>Product</th>\n",
       "      <th>Quantity Ordered</th>\n",
       "      <th>Price Each</th>\n",
       "      <th>Order Date</th>\n",
       "      <th>Purchase Address</th>\n",
       "      <th>Month</th>\n",
       "      <th>Sales</th>\n",
       "      <th>City</th>\n",
       "      <th>Time</th>\n",
       "    </tr>\n",
       "  </thead>\n",
       "  <tbody>\n",
       "    <tr>\n",
       "      <th>0</th>\n",
       "      <td>176558</td>\n",
       "      <td>USB-C Charging Cable</td>\n",
       "      <td>2.0</td>\n",
       "      <td>11.95</td>\n",
       "      <td>04/19/19 08:46</td>\n",
       "      <td>917 1st St, Dallas, TX 75001</td>\n",
       "      <td>Apr</td>\n",
       "      <td>23.90</td>\n",
       "      <td>Dallas</td>\n",
       "      <td>08</td>\n",
       "    </tr>\n",
       "    <tr>\n",
       "      <th>2</th>\n",
       "      <td>176559</td>\n",
       "      <td>Bose SoundSport Headphones</td>\n",
       "      <td>1.0</td>\n",
       "      <td>99.99</td>\n",
       "      <td>04-07-2019 22:30</td>\n",
       "      <td>682 Chestnut St, Boston, MA 02215</td>\n",
       "      <td>Apr</td>\n",
       "      <td>99.99</td>\n",
       "      <td>Boston</td>\n",
       "      <td>19</td>\n",
       "    </tr>\n",
       "    <tr>\n",
       "      <th>3</th>\n",
       "      <td>176560</td>\n",
       "      <td>Google Phone</td>\n",
       "      <td>1.0</td>\n",
       "      <td>600.00</td>\n",
       "      <td>04-12-2019 14:38</td>\n",
       "      <td>669 Spruce St, Los Angeles, CA 90001</td>\n",
       "      <td>Apr</td>\n",
       "      <td>600.00</td>\n",
       "      <td>Los Angeles</td>\n",
       "      <td>19</td>\n",
       "    </tr>\n",
       "    <tr>\n",
       "      <th>4</th>\n",
       "      <td>176560</td>\n",
       "      <td>Wired Headphones</td>\n",
       "      <td>1.0</td>\n",
       "      <td>11.99</td>\n",
       "      <td>04-12-2019 14:38</td>\n",
       "      <td>669 Spruce St, Los Angeles, CA 90001</td>\n",
       "      <td>Apr</td>\n",
       "      <td>11.99</td>\n",
       "      <td>Los Angeles</td>\n",
       "      <td>19</td>\n",
       "    </tr>\n",
       "    <tr>\n",
       "      <th>5</th>\n",
       "      <td>176561</td>\n",
       "      <td>Wired Headphones</td>\n",
       "      <td>1.0</td>\n",
       "      <td>11.99</td>\n",
       "      <td>04/30/19 09:27</td>\n",
       "      <td>333 8th St, Los Angeles, CA 90001</td>\n",
       "      <td>Apr</td>\n",
       "      <td>11.99</td>\n",
       "      <td>Los Angeles</td>\n",
       "      <td>09</td>\n",
       "    </tr>\n",
       "  </tbody>\n",
       "</table>\n",
       "</div>"
      ],
      "text/plain": [
       "  Order ID                     Product  Quantity Ordered  Price Each  \\\n",
       "0   176558        USB-C Charging Cable               2.0       11.95   \n",
       "2   176559  Bose SoundSport Headphones               1.0       99.99   \n",
       "3   176560                Google Phone               1.0      600.00   \n",
       "4   176560            Wired Headphones               1.0       11.99   \n",
       "5   176561            Wired Headphones               1.0       11.99   \n",
       "\n",
       "         Order Date                      Purchase Address Month   Sales  \\\n",
       "0    04/19/19 08:46          917 1st St, Dallas, TX 75001   Apr   23.90   \n",
       "2  04-07-2019 22:30     682 Chestnut St, Boston, MA 02215   Apr   99.99   \n",
       "3  04-12-2019 14:38  669 Spruce St, Los Angeles, CA 90001   Apr  600.00   \n",
       "4  04-12-2019 14:38  669 Spruce St, Los Angeles, CA 90001   Apr   11.99   \n",
       "5    04/30/19 09:27     333 8th St, Los Angeles, CA 90001   Apr   11.99   \n",
       "\n",
       "           City Time  \n",
       "0        Dallas   08  \n",
       "2        Boston  19   \n",
       "3   Los Angeles  19   \n",
       "4   Los Angeles  19   \n",
       "5   Los Angeles   09  "
      ]
     },
     "execution_count": 253,
     "metadata": {},
     "output_type": "execute_result"
    }
   ],
   "source": [
    "data.head(5)"
   ]
  },
  {
   "cell_type": "code",
   "execution_count": 254,
   "id": "4fd129df",
   "metadata": {},
   "outputs": [],
   "source": [
    "duplicated_data=data[data['Order ID'].duplicated(keep=False)]"
   ]
  },
  {
   "cell_type": "code",
   "execution_count": 255,
   "id": "1110df04",
   "metadata": {},
   "outputs": [
    {
     "data": {
      "text/html": [
       "<div>\n",
       "<style scoped>\n",
       "    .dataframe tbody tr th:only-of-type {\n",
       "        vertical-align: middle;\n",
       "    }\n",
       "\n",
       "    .dataframe tbody tr th {\n",
       "        vertical-align: top;\n",
       "    }\n",
       "\n",
       "    .dataframe thead th {\n",
       "        text-align: right;\n",
       "    }\n",
       "</style>\n",
       "<table border=\"1\" class=\"dataframe\">\n",
       "  <thead>\n",
       "    <tr style=\"text-align: right;\">\n",
       "      <th></th>\n",
       "      <th>Order ID</th>\n",
       "      <th>Product</th>\n",
       "      <th>Quantity Ordered</th>\n",
       "      <th>Price Each</th>\n",
       "      <th>Order Date</th>\n",
       "      <th>Purchase Address</th>\n",
       "      <th>Month</th>\n",
       "      <th>Sales</th>\n",
       "      <th>City</th>\n",
       "      <th>Time</th>\n",
       "    </tr>\n",
       "  </thead>\n",
       "  <tbody>\n",
       "    <tr>\n",
       "      <th>3</th>\n",
       "      <td>176560</td>\n",
       "      <td>Google Phone</td>\n",
       "      <td>1.0</td>\n",
       "      <td>600.00</td>\n",
       "      <td>04-12-2019 14:38</td>\n",
       "      <td>669 Spruce St, Los Angeles, CA 90001</td>\n",
       "      <td>Apr</td>\n",
       "      <td>600.00</td>\n",
       "      <td>Los Angeles</td>\n",
       "      <td>19</td>\n",
       "    </tr>\n",
       "    <tr>\n",
       "      <th>4</th>\n",
       "      <td>176560</td>\n",
       "      <td>Wired Headphones</td>\n",
       "      <td>1.0</td>\n",
       "      <td>11.99</td>\n",
       "      <td>04-12-2019 14:38</td>\n",
       "      <td>669 Spruce St, Los Angeles, CA 90001</td>\n",
       "      <td>Apr</td>\n",
       "      <td>11.99</td>\n",
       "      <td>Los Angeles</td>\n",
       "      <td>19</td>\n",
       "    </tr>\n",
       "    <tr>\n",
       "      <th>18</th>\n",
       "      <td>176574</td>\n",
       "      <td>Google Phone</td>\n",
       "      <td>1.0</td>\n",
       "      <td>600.00</td>\n",
       "      <td>04-03-2019 19:42</td>\n",
       "      <td>20 Hill St, Los Angeles, CA 90001</td>\n",
       "      <td>Apr</td>\n",
       "      <td>600.00</td>\n",
       "      <td>Los Angeles</td>\n",
       "      <td>19</td>\n",
       "    </tr>\n",
       "    <tr>\n",
       "      <th>19</th>\n",
       "      <td>176574</td>\n",
       "      <td>USB-C Charging Cable</td>\n",
       "      <td>1.0</td>\n",
       "      <td>11.95</td>\n",
       "      <td>04-03-2019 19:42</td>\n",
       "      <td>20 Hill St, Los Angeles, CA 90001</td>\n",
       "      <td>Apr</td>\n",
       "      <td>11.95</td>\n",
       "      <td>Los Angeles</td>\n",
       "      <td>19</td>\n",
       "    </tr>\n",
       "    <tr>\n",
       "      <th>30</th>\n",
       "      <td>176585</td>\n",
       "      <td>Bose SoundSport Headphones</td>\n",
       "      <td>1.0</td>\n",
       "      <td>99.99</td>\n",
       "      <td>04-07-2019 11:31</td>\n",
       "      <td>823 Highland St, Boston, MA 02215</td>\n",
       "      <td>Apr</td>\n",
       "      <td>99.99</td>\n",
       "      <td>Boston</td>\n",
       "      <td>19</td>\n",
       "    </tr>\n",
       "  </tbody>\n",
       "</table>\n",
       "</div>"
      ],
      "text/plain": [
       "   Order ID                     Product  Quantity Ordered  Price Each  \\\n",
       "3    176560                Google Phone               1.0      600.00   \n",
       "4    176560            Wired Headphones               1.0       11.99   \n",
       "18   176574                Google Phone               1.0      600.00   \n",
       "19   176574        USB-C Charging Cable               1.0       11.95   \n",
       "30   176585  Bose SoundSport Headphones               1.0       99.99   \n",
       "\n",
       "          Order Date                      Purchase Address Month   Sales  \\\n",
       "3   04-12-2019 14:38  669 Spruce St, Los Angeles, CA 90001   Apr  600.00   \n",
       "4   04-12-2019 14:38  669 Spruce St, Los Angeles, CA 90001   Apr   11.99   \n",
       "18  04-03-2019 19:42     20 Hill St, Los Angeles, CA 90001   Apr  600.00   \n",
       "19  04-03-2019 19:42     20 Hill St, Los Angeles, CA 90001   Apr   11.95   \n",
       "30  04-07-2019 11:31     823 Highland St, Boston, MA 02215   Apr   99.99   \n",
       "\n",
       "            City Time  \n",
       "3    Los Angeles  19   \n",
       "4    Los Angeles  19   \n",
       "18   Los Angeles  19   \n",
       "19   Los Angeles  19   \n",
       "30        Boston  19   "
      ]
     },
     "execution_count": 255,
     "metadata": {},
     "output_type": "execute_result"
    }
   ],
   "source": [
    "duplicated_data.head(5)"
   ]
  },
  {
   "cell_type": "code",
   "execution_count": 256,
   "id": "431282f3",
   "metadata": {},
   "outputs": [
    {
     "name": "stderr",
     "output_type": "stream",
     "text": [
      "<ipython-input-256-80d36d43e83f>:1: SettingWithCopyWarning: \n",
      "A value is trying to be set on a copy of a slice from a DataFrame.\n",
      "Try using .loc[row_indexer,col_indexer] = value instead\n",
      "\n",
      "See the caveats in the documentation: https://pandas.pydata.org/pandas-docs/stable/user_guide/indexing.html#returning-a-view-versus-a-copy\n",
      "  duplicated_data['Product_bundle']=duplicated_data.groupby('Order ID') ['Product'].transform(lambda x: ','.join(x))\n"
     ]
    }
   ],
   "source": [
    "duplicated_data['Product_bundle']=duplicated_data.groupby('Order ID') ['Product'].transform(lambda x: ','.join(x))"
   ]
  },
  {
   "cell_type": "code",
   "execution_count": 257,
   "id": "8fd87279",
   "metadata": {},
   "outputs": [
    {
     "data": {
      "text/html": [
       "<div>\n",
       "<style scoped>\n",
       "    .dataframe tbody tr th:only-of-type {\n",
       "        vertical-align: middle;\n",
       "    }\n",
       "\n",
       "    .dataframe tbody tr th {\n",
       "        vertical-align: top;\n",
       "    }\n",
       "\n",
       "    .dataframe thead th {\n",
       "        text-align: right;\n",
       "    }\n",
       "</style>\n",
       "<table border=\"1\" class=\"dataframe\">\n",
       "  <thead>\n",
       "    <tr style=\"text-align: right;\">\n",
       "      <th></th>\n",
       "      <th>Order ID</th>\n",
       "      <th>Product</th>\n",
       "      <th>Quantity Ordered</th>\n",
       "      <th>Price Each</th>\n",
       "      <th>Order Date</th>\n",
       "      <th>Purchase Address</th>\n",
       "      <th>Month</th>\n",
       "      <th>Sales</th>\n",
       "      <th>City</th>\n",
       "      <th>Time</th>\n",
       "      <th>Product_bundle</th>\n",
       "    </tr>\n",
       "  </thead>\n",
       "  <tbody>\n",
       "    <tr>\n",
       "      <th>3</th>\n",
       "      <td>176560</td>\n",
       "      <td>Google Phone</td>\n",
       "      <td>1.0</td>\n",
       "      <td>600.00</td>\n",
       "      <td>04-12-2019 14:38</td>\n",
       "      <td>669 Spruce St, Los Angeles, CA 90001</td>\n",
       "      <td>Apr</td>\n",
       "      <td>600.00</td>\n",
       "      <td>Los Angeles</td>\n",
       "      <td>19</td>\n",
       "      <td>Google Phone,Wired Headphones</td>\n",
       "    </tr>\n",
       "    <tr>\n",
       "      <th>4</th>\n",
       "      <td>176560</td>\n",
       "      <td>Wired Headphones</td>\n",
       "      <td>1.0</td>\n",
       "      <td>11.99</td>\n",
       "      <td>04-12-2019 14:38</td>\n",
       "      <td>669 Spruce St, Los Angeles, CA 90001</td>\n",
       "      <td>Apr</td>\n",
       "      <td>11.99</td>\n",
       "      <td>Los Angeles</td>\n",
       "      <td>19</td>\n",
       "      <td>Google Phone,Wired Headphones</td>\n",
       "    </tr>\n",
       "    <tr>\n",
       "      <th>18</th>\n",
       "      <td>176574</td>\n",
       "      <td>Google Phone</td>\n",
       "      <td>1.0</td>\n",
       "      <td>600.00</td>\n",
       "      <td>04-03-2019 19:42</td>\n",
       "      <td>20 Hill St, Los Angeles, CA 90001</td>\n",
       "      <td>Apr</td>\n",
       "      <td>600.00</td>\n",
       "      <td>Los Angeles</td>\n",
       "      <td>19</td>\n",
       "      <td>Google Phone,USB-C Charging Cable</td>\n",
       "    </tr>\n",
       "    <tr>\n",
       "      <th>19</th>\n",
       "      <td>176574</td>\n",
       "      <td>USB-C Charging Cable</td>\n",
       "      <td>1.0</td>\n",
       "      <td>11.95</td>\n",
       "      <td>04-03-2019 19:42</td>\n",
       "      <td>20 Hill St, Los Angeles, CA 90001</td>\n",
       "      <td>Apr</td>\n",
       "      <td>11.95</td>\n",
       "      <td>Los Angeles</td>\n",
       "      <td>19</td>\n",
       "      <td>Google Phone,USB-C Charging Cable</td>\n",
       "    </tr>\n",
       "    <tr>\n",
       "      <th>30</th>\n",
       "      <td>176585</td>\n",
       "      <td>Bose SoundSport Headphones</td>\n",
       "      <td>1.0</td>\n",
       "      <td>99.99</td>\n",
       "      <td>04-07-2019 11:31</td>\n",
       "      <td>823 Highland St, Boston, MA 02215</td>\n",
       "      <td>Apr</td>\n",
       "      <td>99.99</td>\n",
       "      <td>Boston</td>\n",
       "      <td>19</td>\n",
       "      <td>Bose SoundSport Headphones,Bose SoundSport Hea...</td>\n",
       "    </tr>\n",
       "    <tr>\n",
       "      <th>...</th>\n",
       "      <td>...</td>\n",
       "      <td>...</td>\n",
       "      <td>...</td>\n",
       "      <td>...</td>\n",
       "      <td>...</td>\n",
       "      <td>...</td>\n",
       "      <td>...</td>\n",
       "      <td>...</td>\n",
       "      <td>...</td>\n",
       "      <td>...</td>\n",
       "      <td>...</td>\n",
       "    </tr>\n",
       "    <tr>\n",
       "      <th>186792</th>\n",
       "      <td>259303</td>\n",
       "      <td>AA Batteries (4-pack)</td>\n",
       "      <td>1.0</td>\n",
       "      <td>3.84</td>\n",
       "      <td>09/20/19 20:18</td>\n",
       "      <td>106 7th St, Atlanta, GA 30301</td>\n",
       "      <td>Sep</td>\n",
       "      <td>3.84</td>\n",
       "      <td>Atlanta</td>\n",
       "      <td>20</td>\n",
       "      <td>34in Ultrawide Monitor,AA Batteries (4-pack)</td>\n",
       "    </tr>\n",
       "    <tr>\n",
       "      <th>186803</th>\n",
       "      <td>259314</td>\n",
       "      <td>Wired Headphones</td>\n",
       "      <td>1.0</td>\n",
       "      <td>11.99</td>\n",
       "      <td>09/16/19 00:25</td>\n",
       "      <td>241 Highland St, Atlanta, GA 30301</td>\n",
       "      <td>Sep</td>\n",
       "      <td>11.99</td>\n",
       "      <td>Atlanta</td>\n",
       "      <td>00</td>\n",
       "      <td>Wired Headphones,AAA Batteries (4-pack)</td>\n",
       "    </tr>\n",
       "    <tr>\n",
       "      <th>186804</th>\n",
       "      <td>259314</td>\n",
       "      <td>AAA Batteries (4-pack)</td>\n",
       "      <td>2.0</td>\n",
       "      <td>2.99</td>\n",
       "      <td>09/16/19 00:25</td>\n",
       "      <td>241 Highland St, Atlanta, GA 30301</td>\n",
       "      <td>Sep</td>\n",
       "      <td>5.98</td>\n",
       "      <td>Atlanta</td>\n",
       "      <td>00</td>\n",
       "      <td>Wired Headphones,AAA Batteries (4-pack)</td>\n",
       "    </tr>\n",
       "    <tr>\n",
       "      <th>186841</th>\n",
       "      <td>259350</td>\n",
       "      <td>Google Phone</td>\n",
       "      <td>1.0</td>\n",
       "      <td>600.00</td>\n",
       "      <td>09/30/19 13:49</td>\n",
       "      <td>519 Maple St, San Francisco, CA 94016</td>\n",
       "      <td>Sep</td>\n",
       "      <td>600.00</td>\n",
       "      <td>San Francisco</td>\n",
       "      <td>13</td>\n",
       "      <td>Google Phone,USB-C Charging Cable</td>\n",
       "    </tr>\n",
       "    <tr>\n",
       "      <th>186842</th>\n",
       "      <td>259350</td>\n",
       "      <td>USB-C Charging Cable</td>\n",
       "      <td>1.0</td>\n",
       "      <td>11.95</td>\n",
       "      <td>09/30/19 13:49</td>\n",
       "      <td>519 Maple St, San Francisco, CA 94016</td>\n",
       "      <td>Sep</td>\n",
       "      <td>11.95</td>\n",
       "      <td>San Francisco</td>\n",
       "      <td>13</td>\n",
       "      <td>Google Phone,USB-C Charging Cable</td>\n",
       "    </tr>\n",
       "  </tbody>\n",
       "</table>\n",
       "<p>14649 rows × 11 columns</p>\n",
       "</div>"
      ],
      "text/plain": [
       "       Order ID                     Product  Quantity Ordered  Price Each  \\\n",
       "3        176560                Google Phone               1.0      600.00   \n",
       "4        176560            Wired Headphones               1.0       11.99   \n",
       "18       176574                Google Phone               1.0      600.00   \n",
       "19       176574        USB-C Charging Cable               1.0       11.95   \n",
       "30       176585  Bose SoundSport Headphones               1.0       99.99   \n",
       "...         ...                         ...               ...         ...   \n",
       "186792   259303       AA Batteries (4-pack)               1.0        3.84   \n",
       "186803   259314            Wired Headphones               1.0       11.99   \n",
       "186804   259314      AAA Batteries (4-pack)               2.0        2.99   \n",
       "186841   259350                Google Phone               1.0      600.00   \n",
       "186842   259350        USB-C Charging Cable               1.0       11.95   \n",
       "\n",
       "              Order Date                       Purchase Address Month   Sales  \\\n",
       "3       04-12-2019 14:38   669 Spruce St, Los Angeles, CA 90001   Apr  600.00   \n",
       "4       04-12-2019 14:38   669 Spruce St, Los Angeles, CA 90001   Apr   11.99   \n",
       "18      04-03-2019 19:42      20 Hill St, Los Angeles, CA 90001   Apr  600.00   \n",
       "19      04-03-2019 19:42      20 Hill St, Los Angeles, CA 90001   Apr   11.95   \n",
       "30      04-07-2019 11:31      823 Highland St, Boston, MA 02215   Apr   99.99   \n",
       "...                  ...                                    ...   ...     ...   \n",
       "186792    09/20/19 20:18          106 7th St, Atlanta, GA 30301   Sep    3.84   \n",
       "186803    09/16/19 00:25     241 Highland St, Atlanta, GA 30301   Sep   11.99   \n",
       "186804    09/16/19 00:25     241 Highland St, Atlanta, GA 30301   Sep    5.98   \n",
       "186841    09/30/19 13:49  519 Maple St, San Francisco, CA 94016   Sep  600.00   \n",
       "186842    09/30/19 13:49  519 Maple St, San Francisco, CA 94016   Sep   11.95   \n",
       "\n",
       "                  City Time                                     Product_bundle  \n",
       "3          Los Angeles  19                       Google Phone,Wired Headphones  \n",
       "4          Los Angeles  19                       Google Phone,Wired Headphones  \n",
       "18         Los Angeles  19                   Google Phone,USB-C Charging Cable  \n",
       "19         Los Angeles  19                   Google Phone,USB-C Charging Cable  \n",
       "30              Boston  19   Bose SoundSport Headphones,Bose SoundSport Hea...  \n",
       "...                ...  ...                                                ...  \n",
       "186792         Atlanta   20       34in Ultrawide Monitor,AA Batteries (4-pack)  \n",
       "186803         Atlanta   00            Wired Headphones,AAA Batteries (4-pack)  \n",
       "186804         Atlanta   00            Wired Headphones,AAA Batteries (4-pack)  \n",
       "186841   San Francisco   13                  Google Phone,USB-C Charging Cable  \n",
       "186842   San Francisco   13                  Google Phone,USB-C Charging Cable  \n",
       "\n",
       "[14649 rows x 11 columns]"
      ]
     },
     "execution_count": 257,
     "metadata": {},
     "output_type": "execute_result"
    }
   ],
   "source": [
    "duplicated_data"
   ]
  },
  {
   "cell_type": "code",
   "execution_count": 258,
   "id": "6b0bef86",
   "metadata": {},
   "outputs": [],
   "source": [
    "duplicated_data = duplicated_data[['Order ID','Product_bundle']].drop_duplicates()"
   ]
  },
  {
   "cell_type": "code",
   "execution_count": 259,
   "id": "3c197ec7",
   "metadata": {},
   "outputs": [
    {
     "data": {
      "text/html": [
       "<div>\n",
       "<style scoped>\n",
       "    .dataframe tbody tr th:only-of-type {\n",
       "        vertical-align: middle;\n",
       "    }\n",
       "\n",
       "    .dataframe tbody tr th {\n",
       "        vertical-align: top;\n",
       "    }\n",
       "\n",
       "    .dataframe thead th {\n",
       "        text-align: right;\n",
       "    }\n",
       "</style>\n",
       "<table border=\"1\" class=\"dataframe\">\n",
       "  <thead>\n",
       "    <tr style=\"text-align: right;\">\n",
       "      <th></th>\n",
       "      <th>Order ID</th>\n",
       "      <th>Product_bundle</th>\n",
       "    </tr>\n",
       "  </thead>\n",
       "  <tbody>\n",
       "    <tr>\n",
       "      <th>3</th>\n",
       "      <td>176560</td>\n",
       "      <td>Google Phone,Wired Headphones</td>\n",
       "    </tr>\n",
       "    <tr>\n",
       "      <th>18</th>\n",
       "      <td>176574</td>\n",
       "      <td>Google Phone,USB-C Charging Cable</td>\n",
       "    </tr>\n",
       "    <tr>\n",
       "      <th>30</th>\n",
       "      <td>176585</td>\n",
       "      <td>Bose SoundSport Headphones,Bose SoundSport Hea...</td>\n",
       "    </tr>\n",
       "    <tr>\n",
       "      <th>32</th>\n",
       "      <td>176586</td>\n",
       "      <td>AAA Batteries (4-pack),Google Phone</td>\n",
       "    </tr>\n",
       "    <tr>\n",
       "      <th>119</th>\n",
       "      <td>176672</td>\n",
       "      <td>Lightning Charging Cable,USB-C Charging Cable</td>\n",
       "    </tr>\n",
       "  </tbody>\n",
       "</table>\n",
       "</div>"
      ],
      "text/plain": [
       "    Order ID                                     Product_bundle\n",
       "3     176560                      Google Phone,Wired Headphones\n",
       "18    176574                  Google Phone,USB-C Charging Cable\n",
       "30    176585  Bose SoundSport Headphones,Bose SoundSport Hea...\n",
       "32    176586                AAA Batteries (4-pack),Google Phone\n",
       "119   176672      Lightning Charging Cable,USB-C Charging Cable"
      ]
     },
     "execution_count": 259,
     "metadata": {},
     "output_type": "execute_result"
    }
   ],
   "source": [
    "duplicated_data.head()"
   ]
  },
  {
   "cell_type": "code",
   "execution_count": 260,
   "id": "9dfc2cc4",
   "metadata": {},
   "outputs": [],
   "source": [
    "from itertools import combinations\n",
    "from collections import Counter"
   ]
  },
  {
   "cell_type": "code",
   "execution_count": 261,
   "id": "cbe8077a",
   "metadata": {},
   "outputs": [
    {
     "name": "stdout",
     "output_type": "stream",
     "text": [
      "Counter({('iPhone', 'Lightning Charging Cable'): 1005, ('Google Phone', 'USB-C Charging Cable'): 987, ('iPhone', 'Wired Headphones'): 447, ('Google Phone', 'Wired Headphones'): 414, ('Vareebadd Phone', 'USB-C Charging Cable'): 361, ('iPhone', 'Apple Airpods Headphones'): 360, ('Google Phone', 'Bose SoundSport Headphones'): 220, ('USB-C Charging Cable', 'Wired Headphones'): 160, ('Vareebadd Phone', 'Wired Headphones'): 143, ('Lightning Charging Cable', 'Wired Headphones'): 92, ('Lightning Charging Cable', 'Apple Airpods Headphones'): 81, ('Vareebadd Phone', 'Bose SoundSport Headphones'): 80, ('USB-C Charging Cable', 'Bose SoundSport Headphones'): 77, ('Apple Airpods Headphones', 'Wired Headphones'): 69, ('Lightning Charging Cable', 'USB-C Charging Cable'): 58, ('Lightning Charging Cable', 'AA Batteries (4-pack)'): 55, ('Lightning Charging Cable', 'Lightning Charging Cable'): 54, ('Bose SoundSport Headphones', 'Wired Headphones'): 53, ('AA Batteries (4-pack)', 'Lightning Charging Cable'): 51, ('AAA Batteries (4-pack)', 'USB-C Charging Cable'): 50, ('Apple Airpods Headphones', 'AAA Batteries (4-pack)'): 48, ('AA Batteries (4-pack)', 'AAA Batteries (4-pack)'): 48, ('USB-C Charging Cable', 'USB-C Charging Cable'): 48, ('AAA Batteries (4-pack)', 'AAA Batteries (4-pack)'): 48, ('USB-C Charging Cable', 'AAA Batteries (4-pack)'): 45, ('Wired Headphones', 'USB-C Charging Cable'): 45, ('AA Batteries (4-pack)', 'Wired Headphones'): 44, ('AAA Batteries (4-pack)', 'Lightning Charging Cable'): 44, ('AAA Batteries (4-pack)', 'Wired Headphones'): 43, ('Wired Headphones', 'AAA Batteries (4-pack)'): 43, ('USB-C Charging Cable', 'Lightning Charging Cable'): 42, ('AA Batteries (4-pack)', 'Apple Airpods Headphones'): 41, ('AAA Batteries (4-pack)', 'AA Batteries (4-pack)'): 39, ('Wired Headphones', 'AA Batteries (4-pack)'): 39, ('Lightning Charging Cable', 'Bose SoundSport Headphones'): 39, ('USB-C Charging Cable', 'AA Batteries (4-pack)'): 38, ('Bose SoundSport Headphones', 'AAA Batteries (4-pack)'): 37, ('AA Batteries (4-pack)', 'USB-C Charging Cable'): 37, ('Wired Headphones', 'Lightning Charging Cable'): 37, ('Lightning Charging Cable', 'AAA Batteries (4-pack)'): 36, ('Apple Airpods Headphones', 'Lightning Charging Cable'): 35, ('Wired Headphones', 'Wired Headphones'): 35, ('AA Batteries (4-pack)', 'AA Batteries (4-pack)'): 35, ('USB-C Charging Cable', 'Apple Airpods Headphones'): 34, ('Bose SoundSport Headphones', 'Lightning Charging Cable'): 33, ('AAA Batteries (4-pack)', 'Apple Airpods Headphones'): 33, ('Apple Airpods Headphones', 'Bose SoundSport Headphones'): 32, ('Wired Headphones', 'Apple Airpods Headphones'): 31, ('USB-C Charging Cable', '27in FHD Monitor'): 31, ('Apple Airpods Headphones', 'USB-C Charging Cable'): 29, ('Apple Airpods Headphones', 'AA Batteries (4-pack)'): 29, ('AA Batteries (4-pack)', 'Bose SoundSport Headphones'): 28, ('Bose SoundSport Headphones', 'Bose SoundSport Headphones'): 27, ('Bose SoundSport Headphones', 'AA Batteries (4-pack)'): 27, ('Bose SoundSport Headphones', 'USB-C Charging Cable'): 25, ('Apple Airpods Headphones', 'Apple Airpods Headphones'): 24, ('AAA Batteries (4-pack)', '27in FHD Monitor'): 22, ('27in FHD Monitor', 'AAA Batteries (4-pack)'): 21, ('Wired Headphones', 'Bose SoundSport Headphones'): 21, ('AAA Batteries (4-pack)', 'Bose SoundSport Headphones'): 20, ('34in Ultrawide Monitor', 'AA Batteries (4-pack)'): 19, ('Lightning Charging Cable', '27in 4K Gaming Monitor'): 18, ('AA Batteries (4-pack)', 'iPhone'): 18, ('27in FHD Monitor', 'Lightning Charging Cable'): 18, ('Lightning Charging Cable', '27in FHD Monitor'): 18, ('34in Ultrawide Monitor', 'Lightning Charging Cable'): 18, ('Wired Headphones', '27in 4K Gaming Monitor'): 18, ('Bose SoundSport Headphones', 'Apple Airpods Headphones'): 18, ('iPhone', 'AAA Batteries (4-pack)'): 17, ('Wired Headphones', '34in Ultrawide Monitor'): 17, ('ThinkPad Laptop', 'AAA Batteries (4-pack)'): 16, ('Lightning Charging Cable', 'Google Phone'): 16, ('27in 4K Gaming Monitor', 'Lightning Charging Cable'): 16, ('34in Ultrawide Monitor', 'USB-C Charging Cable'): 15, ('27in FHD Monitor', 'AA Batteries (4-pack)'): 15, ('Wired Headphones', 'iPhone'): 15, ('AAA Batteries (4-pack)', '27in 4K Gaming Monitor'): 15, ('iPhone', 'USB-C Charging Cable'): 15, ('20in Monitor', 'USB-C Charging Cable'): 15, ('Lightning Charging Cable', '20in Monitor'): 15, ('27in 4K Gaming Monitor', 'AAA Batteries (4-pack)'): 15, ('Lightning Charging Cable', '34in Ultrawide Monitor'): 15, ('Google Phone', 'AA Batteries (4-pack)'): 14, ('Apple Airpods Headphones', 'Google Phone'): 14, ('USB-C Charging Cable', 'iPhone'): 14, ('Bose SoundSport Headphones', '27in FHD Monitor'): 14, ('AA Batteries (4-pack)', '27in 4K Gaming Monitor'): 14, ('AAA Batteries (4-pack)', 'iPhone'): 14, ('iPhone', 'AA Batteries (4-pack)'): 14, ('AA Batteries (4-pack)', 'Flatscreen TV'): 13, ('AA Batteries (4-pack)', '34in Ultrawide Monitor'): 13, ('AAA Batteries (4-pack)', '34in Ultrawide Monitor'): 13, ('Apple Airpods Headphones', 'iPhone'): 13, ('Wired Headphones', 'Macbook Pro Laptop'): 13, ('Apple Airpods Headphones', '27in 4K Gaming Monitor'): 12, ('Apple Airpods Headphones', '27in FHD Monitor'): 12, ('27in FHD Monitor', 'Bose SoundSport Headphones'): 12, ('27in FHD Monitor', 'USB-C Charging Cable'): 12, ('Google Phone', 'Lightning Charging Cable'): 12, ('Apple Airpods Headphones', 'Macbook Pro Laptop'): 12, ('27in 4K Gaming Monitor', 'USB-C Charging Cable'): 12, ('Macbook Pro Laptop', 'USB-C Charging Cable'): 12, ('Wired Headphones', '27in FHD Monitor'): 12, ('20in Monitor', 'Wired Headphones'): 12, ('Lightning Charging Cable', 'Flatscreen TV'): 12, ('27in FHD Monitor', 'Apple Airpods Headphones'): 12, ('USB-C Charging Cable', 'Google Phone'): 12, ('27in 4K Gaming Monitor', 'AA Batteries (4-pack)'): 12, ('34in Ultrawide Monitor', 'AAA Batteries (4-pack)'): 12, ('AAA Batteries (4-pack)', 'Google Phone'): 11, ('AAA Batteries (4-pack)', 'Macbook Pro Laptop'): 11, ('USB-C Charging Cable', '27in 4K Gaming Monitor'): 11, ('USB-C Charging Cable', 'ThinkPad Laptop'): 11, ('34in Ultrawide Monitor', 'Wired Headphones'): 11, ('20in Monitor', 'Lightning Charging Cable'): 11, ('AA Batteries (4-pack)', '27in FHD Monitor'): 11, ('Bose SoundSport Headphones', '34in Ultrawide Monitor'): 11, ('ThinkPad Laptop', 'Lightning Charging Cable'): 11, ('Google Phone', 'AAA Batteries (4-pack)'): 11, ('USB-C Charging Cable', '34in Ultrawide Monitor'): 11, ('Macbook Pro Laptop', 'Lightning Charging Cable'): 11, ('AA Batteries (4-pack)', 'Google Phone'): 11, ('AAA Batteries (4-pack)', 'ThinkPad Laptop'): 11, ('Macbook Pro Laptop', 'Bose SoundSport Headphones'): 11, ('27in 4K Gaming Monitor', 'Wired Headphones'): 11, ('Flatscreen TV', 'AAA Batteries (4-pack)'): 11, ('Flatscreen TV', 'Lightning Charging Cable'): 10, ('Wired Headphones', 'ThinkPad Laptop'): 10, ('USB-C Charging Cable', '20in Monitor'): 10, ('27in 4K Gaming Monitor', 'Apple Airpods Headphones'): 10, ('USB-C Charging Cable', 'Flatscreen TV'): 10, ('27in FHD Monitor', 'Wired Headphones'): 10, ('AA Batteries (4-pack)', '20in Monitor'): 10, ('AAA Batteries (4-pack)', 'Flatscreen TV'): 10, ('Lightning Charging Cable', 'iPhone'): 10, ('Bose SoundSport Headphones', 'Flatscreen TV'): 10, ('Lightning Charging Cable', 'Macbook Pro Laptop'): 10, ('Bose SoundSport Headphones', '27in 4K Gaming Monitor'): 10, ('Apple Airpods Headphones', 'ThinkPad Laptop'): 9, ('Wired Headphones', 'Google Phone'): 9, ('27in 4K Gaming Monitor', 'Bose SoundSport Headphones'): 9, ('20in Monitor', 'Bose SoundSport Headphones'): 9, ('Macbook Pro Laptop', 'AA Batteries (4-pack)'): 9, ('ThinkPad Laptop', 'USB-C Charging Cable'): 9, ('ThinkPad Laptop', 'Bose SoundSport Headphones'): 9, ('Vareebadd Phone', 'AA Batteries (4-pack)'): 9, ('USB-C Charging Cable', 'Macbook Pro Laptop'): 9, ('27in FHD Monitor', '27in FHD Monitor'): 9, ('AA Batteries (4-pack)', 'ThinkPad Laptop'): 9, ('Lightning Charging Cable', 'ThinkPad Laptop'): 9, ('AA Batteries (4-pack)', 'Macbook Pro Laptop'): 8, ('Flatscreen TV', 'AA Batteries (4-pack)'): 8, ('Apple Airpods Headphones', 'Flatscreen TV'): 8, ('ThinkPad Laptop', 'AA Batteries (4-pack)'): 8, ('AAA Batteries (4-pack)', '20in Monitor'): 8, ('34in Ultrawide Monitor', 'Apple Airpods Headphones'): 8, ('Bose SoundSport Headphones', 'Google Phone'): 8, ('20in Monitor', 'Apple Airpods Headphones'): 7, ('Macbook Pro Laptop', 'Apple Airpods Headphones'): 7, ('Wired Headphones', 'Flatscreen TV'): 7, ('Wired Headphones', '20in Monitor'): 7, ('Macbook Pro Laptop', 'Wired Headphones'): 7, ('USB-C Charging Cable', 'Vareebadd Phone'): 7, ('Google Phone', '27in FHD Monitor'): 7, ('Macbook Pro Laptop', 'AAA Batteries (4-pack)'): 7, ('34in Ultrawide Monitor', 'iPhone'): 7, ('34in Ultrawide Monitor', '34in Ultrawide Monitor'): 7, ('Flatscreen TV', 'USB-C Charging Cable'): 7, ('Bose SoundSport Headphones', 'iPhone'): 7, ('ThinkPad Laptop', 'Apple Airpods Headphones'): 7, ('Google Phone', 'Apple Airpods Headphones'): 7, ('Macbook Pro Laptop', '27in 4K Gaming Monitor'): 7, ('iPhone', '27in 4K Gaming Monitor'): 6, ('Flatscreen TV', 'Flatscreen TV'): 6, ('Apple Airpods Headphones', '34in Ultrawide Monitor'): 6, ('iPhone', '34in Ultrawide Monitor'): 6, ('Vareebadd Phone', 'Apple Airpods Headphones'): 6, ('27in 4K Gaming Monitor', '34in Ultrawide Monitor'): 6, ('27in 4K Gaming Monitor', 'Macbook Pro Laptop'): 6, ('Bose SoundSport Headphones', '20in Monitor'): 6, ('iPhone', 'Flatscreen TV'): 6, ('Apple Airpods Headphones', '20in Monitor'): 6, ('Apple Airpods Headphones', 'Vareebadd Phone'): 6, ('Wired Headphones', 'Vareebadd Phone'): 6, ('34in Ultrawide Monitor', 'Bose SoundSport Headphones'): 6, ('Google Phone', 'iPhone'): 6, ('27in FHD Monitor', 'Macbook Pro Laptop'): 6, ('20in Monitor', 'AA Batteries (4-pack)'): 6, ('iPhone', 'Bose SoundSport Headphones'): 5, ('27in 4K Gaming Monitor', '27in 4K Gaming Monitor'): 5, ('Flatscreen TV', '34in Ultrawide Monitor'): 5, ('27in 4K Gaming Monitor', 'Google Phone'): 5, ('27in FHD Monitor', '34in Ultrawide Monitor'): 5, ('Flatscreen TV', 'Apple Airpods Headphones'): 5, ('34in Ultrawide Monitor', '27in FHD Monitor'): 5, ('Macbook Pro Laptop', '34in Ultrawide Monitor'): 4, ('iPhone', 'Vareebadd Phone'): 4, ('Bose SoundSport Headphones', 'ThinkPad Laptop'): 4, ('20in Monitor', 'Macbook Pro Laptop'): 4, ('Vareebadd Phone', '34in Ultrawide Monitor'): 4, ('Flatscreen TV', 'Wired Headphones'): 4, ('Flatscreen TV', '27in FHD Monitor'): 4, ('LG Dryer', 'AA Batteries (4-pack)'): 4, ('Flatscreen TV', 'Macbook Pro Laptop'): 4, ('27in FHD Monitor', '27in 4K Gaming Monitor'): 4, ('ThinkPad Laptop', 'Flatscreen TV'): 4, ('Flatscreen TV', 'iPhone'): 4, ('27in 4K Gaming Monitor', 'ThinkPad Laptop'): 4, ('Vareebadd Phone', 'Google Phone'): 4, ('Macbook Pro Laptop', 'Google Phone'): 4, ('27in 4K Gaming Monitor', '27in FHD Monitor'): 4, ('Lightning Charging Cable', 'LG Washing Machine'): 4, ('27in FHD Monitor', 'ThinkPad Laptop'): 4, ('ThinkPad Laptop', 'Wired Headphones'): 4, ('iPhone', 'ThinkPad Laptop'): 4, ('Bose SoundSport Headphones', 'Macbook Pro Laptop'): 4, ('AAA Batteries (4-pack)', 'Vareebadd Phone'): 4, ('LG Washing Machine', 'AAA Batteries (4-pack)'): 4, ('Macbook Pro Laptop', 'ThinkPad Laptop'): 3, ('ThinkPad Laptop', 'Google Phone'): 3, ('34in Ultrawide Monitor', 'Macbook Pro Laptop'): 3, ('Lightning Charging Cable', 'Vareebadd Phone'): 3, ('Google Phone', 'ThinkPad Laptop'): 3, ('20in Monitor', '20in Monitor'): 3, ('ThinkPad Laptop', 'iPhone'): 3, ('Vareebadd Phone', 'Flatscreen TV'): 3, ('34in Ultrawide Monitor', 'Flatscreen TV'): 3, ('Macbook Pro Laptop', 'Macbook Pro Laptop'): 3, ('34in Ultrawide Monitor', 'ThinkPad Laptop'): 3, ('Macbook Pro Laptop', 'iPhone'): 3, ('Vareebadd Phone', 'iPhone'): 3, ('Wired Headphones', 'LG Washing Machine'): 3, ('Google Phone', '34in Ultrawide Monitor'): 3, ('Macbook Pro Laptop', '27in FHD Monitor'): 3, ('Flatscreen TV', 'Bose SoundSport Headphones'): 3, ('AA Batteries (4-pack)', 'Vareebadd Phone'): 3, ('27in FHD Monitor', '20in Monitor'): 3, ('iPhone', 'Google Phone'): 3, ('27in 4K Gaming Monitor', 'iPhone'): 3, ('Google Phone', 'Google Phone'): 3, ('Flatscreen TV', 'Google Phone'): 3, ('Google Phone', 'Macbook Pro Laptop'): 3, ('27in 4K Gaming Monitor', 'Flatscreen TV'): 3, ('Apple Airpods Headphones', 'LG Dryer'): 3, ('20in Monitor', 'AAA Batteries (4-pack)'): 3, ('iPhone', 'Macbook Pro Laptop'): 3, ('34in Ultrawide Monitor', 'Google Phone'): 2, ('Macbook Pro Laptop', '20in Monitor'): 2, ('Lightning Charging Cable', 'LG Dryer'): 2, ('Flatscreen TV', '27in 4K Gaming Monitor'): 2, ('ThinkPad Laptop', 'Macbook Pro Laptop'): 2, ('Macbook Pro Laptop', 'LG Washing Machine'): 2, ('20in Monitor', '27in FHD Monitor'): 2, ('ThinkPad Laptop', 'ThinkPad Laptop'): 2, ('Bose SoundSport Headphones', 'Vareebadd Phone'): 2, ('Vareebadd Phone', 'ThinkPad Laptop'): 2, ('20in Monitor', 'ThinkPad Laptop'): 2, ('iPhone', 'iPhone'): 2, ('27in FHD Monitor', 'LG Dryer'): 2, ('Vareebadd Phone', '27in 4K Gaming Monitor'): 2, ('27in 4K Gaming Monitor', '20in Monitor'): 2, ('LG Washing Machine', 'Lightning Charging Cable'): 2, ('LG Washing Machine', 'Bose SoundSport Headphones'): 2, ('AA Batteries (4-pack)', 'LG Dryer'): 2, ('Vareebadd Phone', 'AAA Batteries (4-pack)'): 2, ('iPhone', '20in Monitor'): 2, ('20in Monitor', 'Google Phone'): 2, ('Flatscreen TV', 'ThinkPad Laptop'): 2, ('ThinkPad Laptop', '27in FHD Monitor'): 2, ('27in FHD Monitor', 'Flatscreen TV'): 2, ('Google Phone', '20in Monitor'): 2, ('27in 4K Gaming Monitor', 'Vareebadd Phone'): 1, ('27in FHD Monitor', 'iPhone'): 1, ('Vareebadd Phone', 'Lightning Charging Cable'): 1, ('Google Phone', 'Vareebadd Phone'): 1, ('20in Monitor', 'iPhone'): 1, ('LG Dryer', 'Vareebadd Phone'): 1, ('Macbook Pro Laptop', 'Flatscreen TV'): 1, ('ThinkPad Laptop', 'Vareebadd Phone'): 1, ('Google Phone', 'Flatscreen TV'): 1, ('LG Washing Machine', 'Google Phone'): 1, ('LG Washing Machine', 'Wired Headphones'): 1, ('LG Dryer', 'Flatscreen TV'): 1, ('27in FHD Monitor', 'LG Washing Machine'): 1, ('LG Dryer', '27in FHD Monitor'): 1, ('20in Monitor', '34in Ultrawide Monitor'): 1, ('34in Ultrawide Monitor', '20in Monitor'): 1, ('34in Ultrawide Monitor', 'LG Washing Machine'): 1, ('Google Phone', '27in 4K Gaming Monitor'): 1, ('LG Washing Machine', 'iPhone'): 1, ('LG Dryer', 'Wired Headphones'): 1, ('27in FHD Monitor', 'Vareebadd Phone'): 1, ('LG Washing Machine', '27in 4K Gaming Monitor'): 1, ('LG Washing Machine', 'Apple Airpods Headphones'): 1, ('27in 4K Gaming Monitor', 'LG Dryer'): 1, ('20in Monitor', 'LG Washing Machine'): 1, ('LG Dryer', 'Google Phone'): 1, ('Vareebadd Phone', '27in FHD Monitor'): 1, ('ThinkPad Laptop', '27in 4K Gaming Monitor'): 1, ('20in Monitor', 'Flatscreen TV'): 1, ('USB-C Charging Cable', 'LG Dryer'): 1, ('LG Washing Machine', '20in Monitor'): 1, ('Flatscreen TV', '20in Monitor'): 1, ('27in FHD Monitor', 'Google Phone'): 1, ('iPhone', '27in FHD Monitor'): 1, ('LG Dryer', 'AAA Batteries (4-pack)'): 1, ('ThinkPad Laptop', '34in Ultrawide Monitor'): 1, ('iPhone', 'LG Washing Machine'): 1, ('AAA Batteries (4-pack)', 'LG Dryer'): 1, ('LG Dryer', '27in 4K Gaming Monitor'): 1, ('LG Dryer', 'Lightning Charging Cable'): 1, ('ThinkPad Laptop', 'LG Dryer'): 1, ('LG Washing Machine', 'AA Batteries (4-pack)'): 1})\n"
     ]
    }
   ],
   "source": [
    "count=Counter()\n",
    "for row in duplicated_data['Product_bundle']:\n",
    "    row_list=row.split(',')\n",
    "    count.update(Counter(combinations(row_list,2)))\n",
    "print(count)"
   ]
  },
  {
   "cell_type": "code",
   "execution_count": 262,
   "id": "f7cc8c42",
   "metadata": {},
   "outputs": [
    {
     "data": {
      "text/plain": [
       "[(('iPhone', 'Lightning Charging Cable'), 1005),\n",
       " (('Google Phone', 'USB-C Charging Cable'), 987),\n",
       " (('iPhone', 'Wired Headphones'), 447),\n",
       " (('Google Phone', 'Wired Headphones'), 414),\n",
       " (('Vareebadd Phone', 'USB-C Charging Cable'), 361),\n",
       " (('iPhone', 'Apple Airpods Headphones'), 360),\n",
       " (('Google Phone', 'Bose SoundSport Headphones'), 220),\n",
       " (('USB-C Charging Cable', 'Wired Headphones'), 160),\n",
       " (('Vareebadd Phone', 'Wired Headphones'), 143),\n",
       " (('Lightning Charging Cable', 'Wired Headphones'), 92)]"
      ]
     },
     "execution_count": 262,
     "metadata": {},
     "output_type": "execute_result"
    }
   ],
   "source": [
    "count=Counter()\n",
    "for row in duplicated_data['Product_bundle']:\n",
    "    row_list=row.split(',')\n",
    "    count.update(Counter(combinations(row_list,2)))\n",
    "count.most_common(10)"
   ]
  },
  {
   "cell_type": "markdown",
   "id": "31fb9099",
   "metadata": {},
   "source": [
    "Analysis 5: What product sold the most? Why do you think it did?"
   ]
  },
  {
   "cell_type": "code",
   "execution_count": 263,
   "id": "f22440ec",
   "metadata": {},
   "outputs": [
    {
     "data": {
      "text/html": [
       "<div>\n",
       "<style scoped>\n",
       "    .dataframe tbody tr th:only-of-type {\n",
       "        vertical-align: middle;\n",
       "    }\n",
       "\n",
       "    .dataframe tbody tr th {\n",
       "        vertical-align: top;\n",
       "    }\n",
       "\n",
       "    .dataframe thead th {\n",
       "        text-align: right;\n",
       "    }\n",
       "</style>\n",
       "<table border=\"1\" class=\"dataframe\">\n",
       "  <thead>\n",
       "    <tr style=\"text-align: right;\">\n",
       "      <th></th>\n",
       "      <th>Order ID</th>\n",
       "      <th>Product</th>\n",
       "      <th>Quantity Ordered</th>\n",
       "      <th>Price Each</th>\n",
       "      <th>Order Date</th>\n",
       "      <th>Purchase Address</th>\n",
       "      <th>Month</th>\n",
       "      <th>Sales</th>\n",
       "      <th>City</th>\n",
       "      <th>Time</th>\n",
       "    </tr>\n",
       "  </thead>\n",
       "  <tbody>\n",
       "    <tr>\n",
       "      <th>0</th>\n",
       "      <td>176558</td>\n",
       "      <td>USB-C Charging Cable</td>\n",
       "      <td>2.0</td>\n",
       "      <td>11.95</td>\n",
       "      <td>04/19/19 08:46</td>\n",
       "      <td>917 1st St, Dallas, TX 75001</td>\n",
       "      <td>Apr</td>\n",
       "      <td>23.90</td>\n",
       "      <td>Dallas</td>\n",
       "      <td>08</td>\n",
       "    </tr>\n",
       "    <tr>\n",
       "      <th>2</th>\n",
       "      <td>176559</td>\n",
       "      <td>Bose SoundSport Headphones</td>\n",
       "      <td>1.0</td>\n",
       "      <td>99.99</td>\n",
       "      <td>04-07-2019 22:30</td>\n",
       "      <td>682 Chestnut St, Boston, MA 02215</td>\n",
       "      <td>Apr</td>\n",
       "      <td>99.99</td>\n",
       "      <td>Boston</td>\n",
       "      <td>19</td>\n",
       "    </tr>\n",
       "    <tr>\n",
       "      <th>3</th>\n",
       "      <td>176560</td>\n",
       "      <td>Google Phone</td>\n",
       "      <td>1.0</td>\n",
       "      <td>600.00</td>\n",
       "      <td>04-12-2019 14:38</td>\n",
       "      <td>669 Spruce St, Los Angeles, CA 90001</td>\n",
       "      <td>Apr</td>\n",
       "      <td>600.00</td>\n",
       "      <td>Los Angeles</td>\n",
       "      <td>19</td>\n",
       "    </tr>\n",
       "    <tr>\n",
       "      <th>4</th>\n",
       "      <td>176560</td>\n",
       "      <td>Wired Headphones</td>\n",
       "      <td>1.0</td>\n",
       "      <td>11.99</td>\n",
       "      <td>04-12-2019 14:38</td>\n",
       "      <td>669 Spruce St, Los Angeles, CA 90001</td>\n",
       "      <td>Apr</td>\n",
       "      <td>11.99</td>\n",
       "      <td>Los Angeles</td>\n",
       "      <td>19</td>\n",
       "    </tr>\n",
       "    <tr>\n",
       "      <th>5</th>\n",
       "      <td>176561</td>\n",
       "      <td>Wired Headphones</td>\n",
       "      <td>1.0</td>\n",
       "      <td>11.99</td>\n",
       "      <td>04/30/19 09:27</td>\n",
       "      <td>333 8th St, Los Angeles, CA 90001</td>\n",
       "      <td>Apr</td>\n",
       "      <td>11.99</td>\n",
       "      <td>Los Angeles</td>\n",
       "      <td>09</td>\n",
       "    </tr>\n",
       "  </tbody>\n",
       "</table>\n",
       "</div>"
      ],
      "text/plain": [
       "  Order ID                     Product  Quantity Ordered  Price Each  \\\n",
       "0   176558        USB-C Charging Cable               2.0       11.95   \n",
       "2   176559  Bose SoundSport Headphones               1.0       99.99   \n",
       "3   176560                Google Phone               1.0      600.00   \n",
       "4   176560            Wired Headphones               1.0       11.99   \n",
       "5   176561            Wired Headphones               1.0       11.99   \n",
       "\n",
       "         Order Date                      Purchase Address Month   Sales  \\\n",
       "0    04/19/19 08:46          917 1st St, Dallas, TX 75001   Apr   23.90   \n",
       "2  04-07-2019 22:30     682 Chestnut St, Boston, MA 02215   Apr   99.99   \n",
       "3  04-12-2019 14:38  669 Spruce St, Los Angeles, CA 90001   Apr  600.00   \n",
       "4  04-12-2019 14:38  669 Spruce St, Los Angeles, CA 90001   Apr   11.99   \n",
       "5    04/30/19 09:27     333 8th St, Los Angeles, CA 90001   Apr   11.99   \n",
       "\n",
       "           City Time  \n",
       "0        Dallas   08  \n",
       "2        Boston  19   \n",
       "3   Los Angeles  19   \n",
       "4   Los Angeles  19   \n",
       "5   Los Angeles   09  "
      ]
     },
     "execution_count": 263,
     "metadata": {},
     "output_type": "execute_result"
    }
   ],
   "source": [
    "data.head(5)"
   ]
  },
  {
   "cell_type": "code",
   "execution_count": 264,
   "id": "3d6dcf1d",
   "metadata": {},
   "outputs": [],
   "source": [
    "product_max=data.groupby('Product').sum()"
   ]
  },
  {
   "cell_type": "code",
   "execution_count": 265,
   "id": "237d8481",
   "metadata": {},
   "outputs": [
    {
     "data": {
      "text/html": [
       "<div>\n",
       "<style scoped>\n",
       "    .dataframe tbody tr th:only-of-type {\n",
       "        vertical-align: middle;\n",
       "    }\n",
       "\n",
       "    .dataframe tbody tr th {\n",
       "        vertical-align: top;\n",
       "    }\n",
       "\n",
       "    .dataframe thead th {\n",
       "        text-align: right;\n",
       "    }\n",
       "</style>\n",
       "<table border=\"1\" class=\"dataframe\">\n",
       "  <thead>\n",
       "    <tr style=\"text-align: right;\">\n",
       "      <th></th>\n",
       "      <th>Quantity Ordered</th>\n",
       "      <th>Price Each</th>\n",
       "      <th>Sales</th>\n",
       "    </tr>\n",
       "    <tr>\n",
       "      <th>Product</th>\n",
       "      <th></th>\n",
       "      <th></th>\n",
       "      <th></th>\n",
       "    </tr>\n",
       "  </thead>\n",
       "  <tbody>\n",
       "    <tr>\n",
       "      <th>20in Monitor</th>\n",
       "      <td>4129.0</td>\n",
       "      <td>451068.99</td>\n",
       "      <td>454148.71</td>\n",
       "    </tr>\n",
       "    <tr>\n",
       "      <th>27in 4K Gaming Monitor</th>\n",
       "      <td>6244.0</td>\n",
       "      <td>2429637.70</td>\n",
       "      <td>2435097.56</td>\n",
       "    </tr>\n",
       "    <tr>\n",
       "      <th>27in FHD Monitor</th>\n",
       "      <td>7550.0</td>\n",
       "      <td>1125974.93</td>\n",
       "      <td>1132424.50</td>\n",
       "    </tr>\n",
       "    <tr>\n",
       "      <th>34in Ultrawide Monitor</th>\n",
       "      <td>6199.0</td>\n",
       "      <td>2348718.19</td>\n",
       "      <td>2355558.01</td>\n",
       "    </tr>\n",
       "    <tr>\n",
       "      <th>AA Batteries (4-pack)</th>\n",
       "      <td>27635.0</td>\n",
       "      <td>79015.68</td>\n",
       "      <td>106118.40</td>\n",
       "    </tr>\n",
       "    <tr>\n",
       "      <th>AAA Batteries (4-pack)</th>\n",
       "      <td>31017.0</td>\n",
       "      <td>61716.59</td>\n",
       "      <td>92740.83</td>\n",
       "    </tr>\n",
       "    <tr>\n",
       "      <th>Apple Airpods Headphones</th>\n",
       "      <td>15661.0</td>\n",
       "      <td>2332350.00</td>\n",
       "      <td>2349150.00</td>\n",
       "    </tr>\n",
       "    <tr>\n",
       "      <th>Bose SoundSport Headphones</th>\n",
       "      <td>13457.0</td>\n",
       "      <td>1332366.75</td>\n",
       "      <td>1345565.43</td>\n",
       "    </tr>\n",
       "    <tr>\n",
       "      <th>Flatscreen TV</th>\n",
       "      <td>4819.0</td>\n",
       "      <td>1440000.00</td>\n",
       "      <td>1445700.00</td>\n",
       "    </tr>\n",
       "    <tr>\n",
       "      <th>Google Phone</th>\n",
       "      <td>5532.0</td>\n",
       "      <td>3315000.00</td>\n",
       "      <td>3319200.00</td>\n",
       "    </tr>\n",
       "    <tr>\n",
       "      <th>LG Dryer</th>\n",
       "      <td>646.0</td>\n",
       "      <td>387600.00</td>\n",
       "      <td>387600.00</td>\n",
       "    </tr>\n",
       "    <tr>\n",
       "      <th>LG Washing Machine</th>\n",
       "      <td>666.0</td>\n",
       "      <td>399600.00</td>\n",
       "      <td>399600.00</td>\n",
       "    </tr>\n",
       "    <tr>\n",
       "      <th>Lightning Charging Cable</th>\n",
       "      <td>23217.0</td>\n",
       "      <td>323787.10</td>\n",
       "      <td>347094.15</td>\n",
       "    </tr>\n",
       "    <tr>\n",
       "      <th>Macbook Pro Laptop</th>\n",
       "      <td>4728.0</td>\n",
       "      <td>8030800.00</td>\n",
       "      <td>8037600.00</td>\n",
       "    </tr>\n",
       "    <tr>\n",
       "      <th>ThinkPad Laptop</th>\n",
       "      <td>4130.0</td>\n",
       "      <td>4127958.72</td>\n",
       "      <td>4129958.70</td>\n",
       "    </tr>\n",
       "    <tr>\n",
       "      <th>USB-C Charging Cable</th>\n",
       "      <td>23975.0</td>\n",
       "      <td>261740.85</td>\n",
       "      <td>286501.25</td>\n",
       "    </tr>\n",
       "    <tr>\n",
       "      <th>Vareebadd Phone</th>\n",
       "      <td>2068.0</td>\n",
       "      <td>826000.00</td>\n",
       "      <td>827200.00</td>\n",
       "    </tr>\n",
       "    <tr>\n",
       "      <th>Wired Headphones</th>\n",
       "      <td>20557.0</td>\n",
       "      <td>226395.18</td>\n",
       "      <td>246478.43</td>\n",
       "    </tr>\n",
       "    <tr>\n",
       "      <th>iPhone</th>\n",
       "      <td>6849.0</td>\n",
       "      <td>4789400.00</td>\n",
       "      <td>4794300.00</td>\n",
       "    </tr>\n",
       "  </tbody>\n",
       "</table>\n",
       "</div>"
      ],
      "text/plain": [
       "                            Quantity Ordered  Price Each       Sales\n",
       "Product                                                             \n",
       "20in Monitor                          4129.0   451068.99   454148.71\n",
       "27in 4K Gaming Monitor                6244.0  2429637.70  2435097.56\n",
       "27in FHD Monitor                      7550.0  1125974.93  1132424.50\n",
       "34in Ultrawide Monitor                6199.0  2348718.19  2355558.01\n",
       "AA Batteries (4-pack)                27635.0    79015.68   106118.40\n",
       "AAA Batteries (4-pack)               31017.0    61716.59    92740.83\n",
       "Apple Airpods Headphones             15661.0  2332350.00  2349150.00\n",
       "Bose SoundSport Headphones           13457.0  1332366.75  1345565.43\n",
       "Flatscreen TV                         4819.0  1440000.00  1445700.00\n",
       "Google Phone                          5532.0  3315000.00  3319200.00\n",
       "LG Dryer                               646.0   387600.00   387600.00\n",
       "LG Washing Machine                     666.0   399600.00   399600.00\n",
       "Lightning Charging Cable             23217.0   323787.10   347094.15\n",
       "Macbook Pro Laptop                    4728.0  8030800.00  8037600.00\n",
       "ThinkPad Laptop                       4130.0  4127958.72  4129958.70\n",
       "USB-C Charging Cable                 23975.0   261740.85   286501.25\n",
       "Vareebadd Phone                       2068.0   826000.00   827200.00\n",
       "Wired Headphones                     20557.0   226395.18   246478.43\n",
       "iPhone                                6849.0  4789400.00  4794300.00"
      ]
     },
     "execution_count": 265,
     "metadata": {},
     "output_type": "execute_result"
    }
   ],
   "source": [
    "product_max"
   ]
  },
  {
   "cell_type": "code",
   "execution_count": 266,
   "id": "11ead4ca",
   "metadata": {},
   "outputs": [
    {
     "data": {
      "image/png": "[encoded data removed]",
      "text/plain": [
       "<Figure size 432x288 with 1 Axes>"
      ]
     },
     "metadata": {
      "needs_background": "light"
     },
     "output_type": "display_data"
    }
   ],
   "source": [
    "plt.figure()\n",
    "plt.bar(product_max.index,product_max['Quantity Ordered'])\n",
    "plt.xticks(rotation=90)\n",
    "plt.show()"
   ]
  },
  {
   "cell_type": "code",
   "execution_count": 267,
   "id": "2016b485",
   "metadata": {},
   "outputs": [
    {
     "data": {
      "text/plain": [
       "<Figure size 432x288 with 0 Axes>"
      ]
     },
     "metadata": {},
     "output_type": "display_data"
    },
    {
     "data": {
      "image/png": "[encoded data removed]",
      "text/plain": [
       "<Figure size 432x288 with 2 Axes>"
      ]
     },
     "metadata": {
      "needs_background": "light"
     },
     "output_type": "display_data"
    }
   ],
   "source": [
    "plt.figure()\n",
    "fig,ax1=plt.subplots()\n",
    "ax2=ax1.twinx()\n",
    "ax1.bar(product_max.index,product_max['Quantity Ordered'])\n",
    "plt.xticks(rotation=90)\n",
    "ax2.plot(product_max.index,product_max['Sales'],color='r')\n",
    "plt.show()"
   ]
  },
  {
   "cell_type": "markdown",
   "id": "6a537edd",
   "metadata": {},
   "source": [
    "# Conclusion\n",
    "\n",
    "1.From the above data set December,April & October had a highest Sale.Jan had lowest sale when compared to the other months.\n",
    "\n",
    "2.San Francisco is the city which sold most number of products.\n",
    "\n",
    "3.Evening is the best time where more number of orders are placed.\n",
    "\n",
    "4.AA & AAA Batteries has highest number sales in terms of quantity when it comes to revenue Apple products contributes more revenue."
   ]
  }
 ],
 "metadata": {
  "kernelspec": {
   "display_name": "Python 3",
   "language": "python",
   "name": "python3"
  },
  "language_info": {
   "codemirror_mode": {
    "name": "ipython",
    "version": 3
   },
   "file_extension": ".py",
   "mimetype": "text/x-python",
   "name": "python",
   "nbconvert_exporter": "python",
   "pygments_lexer": "ipython3",
   "version": "3.8.8"
  }
 },
 "nbformat": 4,
 "nbformat_minor": 5
}
